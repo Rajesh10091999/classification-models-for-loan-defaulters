{
 "cells": [
  {
   "cell_type": "code",
   "execution_count": 2,
   "metadata": {
    "id": "77jZ4uqg87V8"
   },
   "outputs": [],
   "source": [
    "import pandas as pd\n",
    "from sklearn.metrics import f1_score\n",
    "from sklearn.metrics import classification_report"
   ]
  },
  {
   "cell_type": "code",
   "execution_count": 6,
   "metadata": {
    "id": "Cv-QObRs9Mn1"
   },
   "outputs": [],
   "source": [
    "#loading the data\n",
    "train_data = pd.read_csv('/home/rajesh/Downloads/train.csv')\n",
    "test_data = pd.read_csv('/home/rajesh/Downloads/test.csv')\n",
    "#print(train_data)"
   ]
  },
  {
   "cell_type": "code",
   "execution_count": 7,
   "metadata": {
    "id": "HwuGAfDV-eX5"
   },
   "outputs": [],
   "source": [
    "#feature removal that doesnt have any weight \n",
    "train_data = train_data.drop(['ID','Batch Enrolled','Grade','Sub Grade','Payment Plan'], axis=1)\n",
    "test_data = test_data.drop(['ID','Batch Enrolled','Grade','Sub Grade','Payment Plan'], axis=1)"
   ]
  },
  {
   "cell_type": "code",
   "execution_count": 8,
   "metadata": {
    "id": "FEu97-fY-7dp"
   },
   "outputs": [
    {
     "data": {
      "text/html": [
       "<div>\n",
       "<style scoped>\n",
       "    .dataframe tbody tr th:only-of-type {\n",
       "        vertical-align: middle;\n",
       "    }\n",
       "\n",
       "    .dataframe tbody tr th {\n",
       "        vertical-align: top;\n",
       "    }\n",
       "\n",
       "    .dataframe thead th {\n",
       "        text-align: right;\n",
       "    }\n",
       "</style>\n",
       "<table border=\"1\" class=\"dataframe\">\n",
       "  <thead>\n",
       "    <tr style=\"text-align: right;\">\n",
       "      <th></th>\n",
       "      <th>Loan Amount</th>\n",
       "      <th>Funded Amount</th>\n",
       "      <th>Funded Amount Investor</th>\n",
       "      <th>Term</th>\n",
       "      <th>Interest Rate</th>\n",
       "      <th>Employment Duration</th>\n",
       "      <th>Home Ownership</th>\n",
       "      <th>Verification Status</th>\n",
       "      <th>Loan Title</th>\n",
       "      <th>Debit to Income</th>\n",
       "      <th>...</th>\n",
       "      <th>Total Received Late Fee</th>\n",
       "      <th>Recoveries</th>\n",
       "      <th>Collection Recovery Fee</th>\n",
       "      <th>Collection 12 months Medical</th>\n",
       "      <th>Application Type</th>\n",
       "      <th>Last week Pay</th>\n",
       "      <th>Accounts Delinquent</th>\n",
       "      <th>Total Collection Amount</th>\n",
       "      <th>Total Current Balance</th>\n",
       "      <th>Total Revolving Credit Limit</th>\n",
       "    </tr>\n",
       "  </thead>\n",
       "  <tbody>\n",
       "    <tr>\n",
       "      <th>0</th>\n",
       "      <td>17120</td>\n",
       "      <td>10365</td>\n",
       "      <td>16025.082690</td>\n",
       "      <td>59</td>\n",
       "      <td>12.163926</td>\n",
       "      <td>RENT</td>\n",
       "      <td>76468.82190</td>\n",
       "      <td>Source Verified</td>\n",
       "      <td>Home improvement</td>\n",
       "      <td>16.749219</td>\n",
       "      <td>...</td>\n",
       "      <td>0.088031</td>\n",
       "      <td>8.425776</td>\n",
       "      <td>0.731797</td>\n",
       "      <td>0</td>\n",
       "      <td>INDIVIDUAL</td>\n",
       "      <td>135</td>\n",
       "      <td>0</td>\n",
       "      <td>24</td>\n",
       "      <td>475442</td>\n",
       "      <td>4364</td>\n",
       "    </tr>\n",
       "    <tr>\n",
       "      <th>1</th>\n",
       "      <td>7133</td>\n",
       "      <td>11650</td>\n",
       "      <td>12615.795600</td>\n",
       "      <td>59</td>\n",
       "      <td>6.564296</td>\n",
       "      <td>MORTGAGE</td>\n",
       "      <td>38079.01344</td>\n",
       "      <td>Source Verified</td>\n",
       "      <td>Credit card refinancing</td>\n",
       "      <td>18.157975</td>\n",
       "      <td>...</td>\n",
       "      <td>0.041237</td>\n",
       "      <td>6.157008</td>\n",
       "      <td>0.992918</td>\n",
       "      <td>0</td>\n",
       "      <td>INDIVIDUAL</td>\n",
       "      <td>56</td>\n",
       "      <td>0</td>\n",
       "      <td>1</td>\n",
       "      <td>72412</td>\n",
       "      <td>2573</td>\n",
       "    </tr>\n",
       "    <tr>\n",
       "      <th>2</th>\n",
       "      <td>25291</td>\n",
       "      <td>25825</td>\n",
       "      <td>11621.280830</td>\n",
       "      <td>59</td>\n",
       "      <td>14.729900</td>\n",
       "      <td>MORTGAGE</td>\n",
       "      <td>51275.93268</td>\n",
       "      <td>Source Verified</td>\n",
       "      <td>Debt Consolidation</td>\n",
       "      <td>15.190011</td>\n",
       "      <td>...</td>\n",
       "      <td>0.021745</td>\n",
       "      <td>5.705077</td>\n",
       "      <td>0.281580</td>\n",
       "      <td>0</td>\n",
       "      <td>INDIVIDUAL</td>\n",
       "      <td>3</td>\n",
       "      <td>0</td>\n",
       "      <td>26</td>\n",
       "      <td>284825</td>\n",
       "      <td>19676</td>\n",
       "    </tr>\n",
       "    <tr>\n",
       "      <th>3</th>\n",
       "      <td>30781</td>\n",
       "      <td>9664</td>\n",
       "      <td>15375.823510</td>\n",
       "      <td>59</td>\n",
       "      <td>10.523767</td>\n",
       "      <td>RENT</td>\n",
       "      <td>68867.98965</td>\n",
       "      <td>Verified</td>\n",
       "      <td>Debt Consolidation</td>\n",
       "      <td>21.292550</td>\n",
       "      <td>...</td>\n",
       "      <td>0.092398</td>\n",
       "      <td>2.469688</td>\n",
       "      <td>0.959162</td>\n",
       "      <td>0</td>\n",
       "      <td>INDIVIDUAL</td>\n",
       "      <td>21</td>\n",
       "      <td>0</td>\n",
       "      <td>32</td>\n",
       "      <td>40842</td>\n",
       "      <td>7226</td>\n",
       "    </tr>\n",
       "    <tr>\n",
       "      <th>4</th>\n",
       "      <td>8878</td>\n",
       "      <td>9419</td>\n",
       "      <td>7176.647582</td>\n",
       "      <td>58</td>\n",
       "      <td>9.997013</td>\n",
       "      <td>OWN</td>\n",
       "      <td>91556.85423</td>\n",
       "      <td>Verified</td>\n",
       "      <td>Debt Consolidation</td>\n",
       "      <td>4.812117</td>\n",
       "      <td>...</td>\n",
       "      <td>0.010354</td>\n",
       "      <td>2.127835</td>\n",
       "      <td>0.402315</td>\n",
       "      <td>0</td>\n",
       "      <td>INDIVIDUAL</td>\n",
       "      <td>104</td>\n",
       "      <td>0</td>\n",
       "      <td>33</td>\n",
       "      <td>90825</td>\n",
       "      <td>26145</td>\n",
       "    </tr>\n",
       "  </tbody>\n",
       "</table>\n",
       "<p>5 rows × 29 columns</p>\n",
       "</div>"
      ],
      "text/plain": [
       "   Loan Amount  Funded Amount  Funded Amount Investor  Term  Interest Rate  \\\n",
       "0        17120          10365            16025.082690    59      12.163926   \n",
       "1         7133          11650            12615.795600    59       6.564296   \n",
       "2        25291          25825            11621.280830    59      14.729900   \n",
       "3        30781           9664            15375.823510    59      10.523767   \n",
       "4         8878           9419             7176.647582    58       9.997013   \n",
       "\n",
       "  Employment Duration  Home Ownership Verification Status  \\\n",
       "0                RENT     76468.82190     Source Verified   \n",
       "1            MORTGAGE     38079.01344     Source Verified   \n",
       "2            MORTGAGE     51275.93268     Source Verified   \n",
       "3                RENT     68867.98965            Verified   \n",
       "4                 OWN     91556.85423            Verified   \n",
       "\n",
       "                Loan Title  Debit to Income  ...  Total Received Late Fee  \\\n",
       "0         Home improvement        16.749219  ...                 0.088031   \n",
       "1  Credit card refinancing        18.157975  ...                 0.041237   \n",
       "2       Debt Consolidation        15.190011  ...                 0.021745   \n",
       "3       Debt Consolidation        21.292550  ...                 0.092398   \n",
       "4       Debt Consolidation         4.812117  ...                 0.010354   \n",
       "\n",
       "   Recoveries  Collection Recovery Fee  Collection 12 months Medical  \\\n",
       "0    8.425776                 0.731797                             0   \n",
       "1    6.157008                 0.992918                             0   \n",
       "2    5.705077                 0.281580                             0   \n",
       "3    2.469688                 0.959162                             0   \n",
       "4    2.127835                 0.402315                             0   \n",
       "\n",
       "   Application Type  Last week Pay  Accounts Delinquent  \\\n",
       "0        INDIVIDUAL            135                    0   \n",
       "1        INDIVIDUAL             56                    0   \n",
       "2        INDIVIDUAL              3                    0   \n",
       "3        INDIVIDUAL             21                    0   \n",
       "4        INDIVIDUAL            104                    0   \n",
       "\n",
       "  Total Collection Amount  Total Current Balance  Total Revolving Credit Limit  \n",
       "0                      24                 475442                          4364  \n",
       "1                       1                  72412                          2573  \n",
       "2                      26                 284825                         19676  \n",
       "3                      32                  40842                          7226  \n",
       "4                      33                  90825                         26145  \n",
       "\n",
       "[5 rows x 29 columns]"
      ]
     },
     "execution_count": 8,
     "metadata": {},
     "output_type": "execute_result"
    }
   ],
   "source": [
    "#train_data.head()\n",
    "test_data.head()"
   ]
  },
  {
   "cell_type": "code",
   "execution_count": 9,
   "metadata": {
    "id": "AcjbPwsDH8qI"
   },
   "outputs": [
    {
     "name": "stdout",
     "output_type": "stream",
     "text": [
      "       Loan Amount  Funded Amount  Funded Amount Investor  Term  \\\n",
      "0            10000          32236             12329.36286    59   \n",
      "1             3609          11940             12191.99692    59   \n",
      "2            28276           9311             21603.22455    59   \n",
      "3            11170           6954             17877.15585    59   \n",
      "4            16890          13226             13539.92667    59   \n",
      "...            ...            ...                     ...   ...   \n",
      "67458        13601           6848             13175.28583    59   \n",
      "67459         8323          11046             15637.46301    59   \n",
      "67460        15897          32921             12329.45775    59   \n",
      "67461        16567           4975             21353.68465    59   \n",
      "67462        15353          29875             14207.44860    59   \n",
      "\n",
      "       Interest Rate  Employment Duration  Home Ownership  \\\n",
      "0          11.135007                    0    176346.62670   \n",
      "1          12.237563                    2     39833.92100   \n",
      "2          12.545884                    0     91506.69105   \n",
      "3          16.731201                    0    108286.57590   \n",
      "4          15.008300                    0     44234.82545   \n",
      "...              ...                  ...             ...   \n",
      "67458       9.408858                    0     83961.15003   \n",
      "67459       9.972104                    2     65491.12817   \n",
      "67460      19.650943                    0     34813.96985   \n",
      "67461      13.169095                    1     96938.83564   \n",
      "67462      16.034631                    0    105123.15580   \n",
      "\n",
      "       Verification Status  Loan Title  Debit to Income  ...   Recoveries  \\\n",
      "0                        0          41        16.284758  ...     2.498291   \n",
      "1                        1          41        15.412409  ...     2.377215   \n",
      "2                        1          41        28.137619  ...     4.316277   \n",
      "3                        1          41        18.043730  ...     0.107020   \n",
      "4                        1          38        17.209886  ...  1294.818751   \n",
      "...                    ...         ...              ...  ...          ...   \n",
      "67458                    2          38        28.105127  ...   564.614852   \n",
      "67459                    1          38        17.694279  ...     2.015494   \n",
      "67460                    2          63        10.295774  ...     5.673092   \n",
      "67461                    0          41         7.614624  ...     1.157454   \n",
      "67462                    2          41        16.052112  ...     1.856480   \n",
      "\n",
      "       Collection Recovery Fee  Collection 12 months Medical  \\\n",
      "0                     0.793724                             0   \n",
      "1                     0.974821                             0   \n",
      "2                     1.020075                             0   \n",
      "3                     0.749971                             0   \n",
      "4                     0.368953                             0   \n",
      "...                        ...                           ...   \n",
      "67458                 0.865230                             0   \n",
      "67459                 1.403368                             0   \n",
      "67460                 1.607093                             0   \n",
      "67461                 0.207608                             0   \n",
      "67462                 0.366386                             0   \n",
      "\n",
      "       Application Type  Last week Pay  Accounts Delinquent  \\\n",
      "0                     0             49                    0   \n",
      "1                     0            109                    0   \n",
      "2                     0             66                    0   \n",
      "3                     0             39                    0   \n",
      "4                     0             18                    0   \n",
      "...                 ...            ...                  ...   \n",
      "67458                 0             69                    0   \n",
      "67459                 0             14                    0   \n",
      "67460                 0            137                    0   \n",
      "67461                 0             73                    0   \n",
      "67462                 0             54                    0   \n",
      "\n",
      "       Total Collection Amount  Total Current Balance  \\\n",
      "0                           31                 311301   \n",
      "1                           53                 182610   \n",
      "2                           34                  89801   \n",
      "3                           40                   9189   \n",
      "4                          430                 126029   \n",
      "...                        ...                    ...   \n",
      "67458                       48                 181775   \n",
      "67459                       37                  22692   \n",
      "67460                       17                 176857   \n",
      "67461                       61                 361339   \n",
      "67462                       47                 196960   \n",
      "\n",
      "       Total Revolving Credit Limit  Loan Status  \n",
      "0                              6619            0  \n",
      "1                             20885            0  \n",
      "2                             26155            0  \n",
      "3                             60214            0  \n",
      "4                             22579            0  \n",
      "...                             ...          ...  \n",
      "67458                         34301            1  \n",
      "67459                          8714            0  \n",
      "67460                         42330            0  \n",
      "67461                         39075            0  \n",
      "67462                         66060            0  \n",
      "\n",
      "[67463 rows x 30 columns]\n"
     ]
    }
   ],
   "source": [
    "#encoding categorical values to numerical values\n",
    "from sklearn.preprocessing import LabelEncoder\n",
    "le = LabelEncoder()\n",
    "train_data[\"Employment Duration\"] = le.fit_transform(train_data[\"Employment Duration\"])\n",
    "train_data[\"Verification Status\"] = le.fit_transform(train_data[\"Verification Status\"])\n",
    "train_data[\"Loan Title\"] = le.fit_transform(train_data[\"Loan Title\"])\n",
    "train_data[\"Application Type\"] = le.fit_transform(train_data[\"Application Type\"])\n",
    "train_data[\"Initial List Status\"] = le.fit_transform(train_data[\"Initial List Status\"])\n",
    "\n",
    "print(train_data)"
   ]
  },
  {
   "cell_type": "code",
   "execution_count": 10,
   "metadata": {
    "id": "3L78kIroRWeg"
   },
   "outputs": [
    {
     "name": "stdout",
     "output_type": "stream",
     "text": [
      "       Loan Amount  Funded Amount  Funded Amount Investor  Term  \\\n",
      "0            10000          32236             12329.36286    59   \n",
      "1             3609          11940             12191.99692    59   \n",
      "2            28276           9311             21603.22455    59   \n",
      "3            11170           6954             17877.15585    59   \n",
      "4            16890          13226             13539.92667    59   \n",
      "...            ...            ...                     ...   ...   \n",
      "67458        13601           6848             13175.28583    59   \n",
      "67459         8323          11046             15637.46301    59   \n",
      "67460        15897          32921             12329.45775    59   \n",
      "67461        16567           4975             21353.68465    59   \n",
      "67462        15353          29875             14207.44860    59   \n",
      "\n",
      "       Interest Rate  Employment Duration  Home Ownership  \\\n",
      "0          11.135007                    0    176346.62670   \n",
      "1          12.237563                    2     39833.92100   \n",
      "2          12.545884                    0     91506.69105   \n",
      "3          16.731201                    0    108286.57590   \n",
      "4          15.008300                    0     44234.82545   \n",
      "...              ...                  ...             ...   \n",
      "67458       9.408858                    0     83961.15003   \n",
      "67459       9.972104                    2     65491.12817   \n",
      "67460      19.650943                    0     34813.96985   \n",
      "67461      13.169095                    1     96938.83564   \n",
      "67462      16.034631                    0    105123.15580   \n",
      "\n",
      "       Verification Status  Loan Title  Debit to Income  ...  \\\n",
      "0                        0          41        16.284758  ...   \n",
      "1                        1          41        15.412409  ...   \n",
      "2                        1          41        28.137619  ...   \n",
      "3                        1          41        18.043730  ...   \n",
      "4                        1          38        17.209886  ...   \n",
      "...                    ...         ...              ...  ...   \n",
      "67458                    2          38        28.105127  ...   \n",
      "67459                    1          38        17.694279  ...   \n",
      "67460                    2          63        10.295774  ...   \n",
      "67461                    0          41         7.614624  ...   \n",
      "67462                    2          41        16.052112  ...   \n",
      "\n",
      "       Total Received Late Fee   Recoveries  Collection Recovery Fee  \\\n",
      "0                     0.102055     2.498291                 0.793724   \n",
      "1                     0.036181     2.377215                 0.974821   \n",
      "2                    18.778660     4.316277                 1.020075   \n",
      "3                     0.044131     0.107020                 0.749971   \n",
      "4                    19.306646  1294.818751                 0.368953   \n",
      "...                        ...          ...                      ...   \n",
      "67458                 0.023478   564.614852                 0.865230   \n",
      "67459                 0.027095     2.015494                 1.403368   \n",
      "67460                 0.028212     5.673092                 1.607093   \n",
      "67461                 0.074508     1.157454                 0.207608   \n",
      "67462                 0.000671     1.856480                 0.366386   \n",
      "\n",
      "       Collection 12 months Medical  Application Type  Last week Pay  \\\n",
      "0                                 0                 0             49   \n",
      "1                                 0                 0            109   \n",
      "2                                 0                 0             66   \n",
      "3                                 0                 0             39   \n",
      "4                                 0                 0             18   \n",
      "...                             ...               ...            ...   \n",
      "67458                             0                 0             69   \n",
      "67459                             0                 0             14   \n",
      "67460                             0                 0            137   \n",
      "67461                             0                 0             73   \n",
      "67462                             0                 0             54   \n",
      "\n",
      "       Accounts Delinquent  Total Collection Amount  Total Current Balance  \\\n",
      "0                        0                       31                 311301   \n",
      "1                        0                       53                 182610   \n",
      "2                        0                       34                  89801   \n",
      "3                        0                       40                   9189   \n",
      "4                        0                      430                 126029   \n",
      "...                    ...                      ...                    ...   \n",
      "67458                    0                       48                 181775   \n",
      "67459                    0                       37                  22692   \n",
      "67460                    0                       17                 176857   \n",
      "67461                    0                       61                 361339   \n",
      "67462                    0                       47                 196960   \n",
      "\n",
      "       Total Revolving Credit Limit  \n",
      "0                              6619  \n",
      "1                             20885  \n",
      "2                             26155  \n",
      "3                             60214  \n",
      "4                             22579  \n",
      "...                             ...  \n",
      "67458                         34301  \n",
      "67459                          8714  \n",
      "67460                         42330  \n",
      "67461                         39075  \n",
      "67462                         66060  \n",
      "\n",
      "[67463 rows x 29 columns]\n"
     ]
    }
   ],
   "source": [
    "#splitting the preprocessed data into fetures and label\n",
    "label = train_data[\"Loan Status\"]\n",
    "features = train_data.drop([\"Loan Status\"], axis = 1)\n",
    "print(features)"
   ]
  },
  {
   "cell_type": "code",
   "execution_count": 26,
   "metadata": {
    "id": "8KCMA7PUBbcI"
   },
   "outputs": [],
   "source": [
    "#standardising the data\n",
    "from sklearn.preprocessing import StandardScaler\n",
    "std = StandardScaler(with_mean=False)\n",
    "features =std.fit_transform(features)"
   ]
  },
  {
   "cell_type": "code",
   "execution_count": null,
   "metadata": {
    "id": "GOA9wsQiVCz9"
   },
   "outputs": [
    {
     "name": "stdout",
     "output_type": "stream",
     "text": [
      "[[0.6912208  2.7800501  1.95454494 ... 0.05910986 1.1852289  0.3679862 ]\n",
      " [2.32581938 1.17642985 3.35286568 ... 0.07791754 4.64185225 2.69145789]\n",
      " [3.62675811 3.25140722 1.95092974 ... 0.06045326 0.4393586  1.20583968]\n",
      " ...\n",
      " [4.11266817 1.08183944 1.97271892 ... 4.80939277 2.61866647 0.31683053]\n",
      " [1.83142441 0.77966542 1.76350854 ... 0.04164558 1.5814752  1.36590436]\n",
      " [1.36845944 1.08515195 1.33755761 ... 0.04970601 2.02051014 0.57925437]]\n"
     ]
    }
   ],
   "source": [
    "#splitting the data into train and test f\n",
    "from sklearn.model_selection import train_test_split\n",
    "X_train, X_test, y_train, y_test = train_test_split(features, label, test_size=0.3, random_state=42)\n",
    "print(X_train)"
   ]
  },
  {
   "cell_type": "code",
   "execution_count": 28,
   "metadata": {
    "colab": {
     "base_uri": "https://localhost:8080/"
    },
    "id": "ZgPKAm_pYdjs",
    "outputId": "cb734b24-b058-43f9-aca9-a98a7b6a028b"
   },
   "outputs": [
    {
     "name": "stdout",
     "output_type": "stream",
     "text": [
      "before Counter({0: 42836, 1: 4388})\n"
     ]
    },
    {
     "name": "stdout",
     "output_type": "stream",
     "text": [
      "after Counter({0: 42836, 1: 42836})\n"
     ]
    }
   ],
   "source": [
    "#oversampling minority class by SMOte\n",
    "from imblearn.over_sampling import SMOTE\n",
    "from collections import Counter\n",
    "counter = Counter(y_train)\n",
    "print(\"before\", counter)\n",
    "smt = SMOTE()\n",
    "x_train_sm, y_train_sm = smt.fit_resample(X_train,y_train)\n",
    "counter = Counter(y_train_sm)\n",
    "print(\"after\", counter)\n",
    "#print(x_train_sm)\n"
   ]
  },
  {
   "cell_type": "code",
   "execution_count": 11,
   "metadata": {
    "colab": {
     "base_uri": "https://localhost:8080/"
    },
    "id": "Lka-G90BdB2p",
    "outputId": "9ab20112-0f20-4422-8ff4-6ef82ecc086a"
   },
   "outputs": [
    {
     "name": "stdout",
     "output_type": "stream",
     "text": [
      "before Counter({0: 42836, 1: 4388})\n"
     ]
    },
    {
     "name": "stdout",
     "output_type": "stream",
     "text": [
      "after Counter({1: 44306, 0: 42836})\n"
     ]
    }
   ],
   "source": [
    "#oversampling minority class by ADASYN\n",
    "from imblearn.over_sampling import ADASYN\n",
    "from collections import Counter\n",
    "counter = Counter(y_train)\n",
    "print(\"before\", counter)\n",
    "ada = ADASYN(random_state = 0)\n",
    "x_train_ada, y_train_ada = ada.fit_resample(X_train,y_train)\n",
    "counter = Counter(y_train_ada)\n",
    "print(\"after\", counter)\n",
    "#x_train_sm.isnull().values.any()"
   ]
  },
  {
   "cell_type": "code",
   "execution_count": 12,
   "metadata": {
    "colab": {
     "base_uri": "https://localhost:8080/"
    },
    "id": "EVYXEbXKef40",
    "outputId": "fcb069ff-cd71-41d6-c718-c5ddb7c19be9"
   },
   "outputs": [
    {
     "name": "stdout",
     "output_type": "stream",
     "text": [
      "before Counter({0: 42836, 1: 4388})\n"
     ]
    },
    {
     "name": "stdout",
     "output_type": "stream",
     "text": [
      "after Counter({0: 42830, 1: 42830})\n"
     ]
    }
   ],
   "source": [
    "#oversampling and undersampling by SMOTE+TOmek\n",
    "from imblearn.combine import SMOTETomek\n",
    "from collections import Counter\n",
    "counter = Counter(y_train)\n",
    "print(\"before\", counter)\n",
    "smtok = SMOTETomek()\n",
    "x_train_smtok, y_train_smtok = smtok.fit_resample(X_train,y_train)\n",
    "counter = Counter(y_train_smtok)\n",
    "print(\"after\", counter)\n",
    "#x_train_sm.isnull().values.any()"
   ]
  },
  {
   "cell_type": "code",
   "execution_count": 13,
   "metadata": {
    "colab": {
     "base_uri": "https://localhost:8080/"
    },
    "id": "mxSSEcdCgAL9",
    "outputId": "56d3aa93-7085-454b-9c95-689b095f72e5"
   },
   "outputs": [
    {
     "name": "stdout",
     "output_type": "stream",
     "text": [
      "before Counter({0: 42836, 1: 4388})\n"
     ]
    },
    {
     "name": "stdout",
     "output_type": "stream",
     "text": [
      "after Counter({1: 42775, 0: 20326})\n"
     ]
    }
   ],
   "source": [
    "#Oversampling and undersampling BY SMOTE+ENN\n",
    "from imblearn.combine import SMOTEENN\n",
    "from collections import Counter\n",
    "counter = Counter(y_train)\n",
    "print(\"before\", counter)\n",
    "smtnn = SMOTEENN()\n",
    "x_train_smtnn, y_train_smtnn = smtnn.fit_resample(X_train,y_train)\n",
    "counter = Counter(y_train_smtnn)\n",
    "print(\"after\", counter)\n",
    "#x_train_sm.isnull().values.any()"
   ]
  },
  {
   "cell_type": "code",
   "execution_count": 20,
   "metadata": {
    "colab": {
     "base_uri": "https://localhost:8080/"
    },
    "id": "tsOAUbaDbEuk",
    "outputId": "5e42fa34-4476-4000-ae25-ab5082aacbef"
   },
   "outputs": [
    {
     "name": "stdout",
     "output_type": "stream",
     "text": [
      "[1 0 1 ... 0 0 0]\n",
      "0.09136687002184882\n",
      "              precision    recall  f1-score   support\n",
      "\n",
      "           0       0.91      0.50      0.64     18386\n",
      "           1       0.09      0.50      0.15      1853\n",
      "\n",
      "    accuracy                           0.50     20239\n",
      "   macro avg       0.50      0.50      0.40     20239\n",
      "weighted avg       0.83      0.50      0.60     20239\n",
      "\n",
      "0.4981471416571965\n"
     ]
    }
   ],
   "source": [
    "#Logistic Regression on SMote balanced data\n",
    "from sklearn.linear_model import LogisticRegression#Smote\n",
    "from sklearn.metrics import accuracy_score\n",
    "from sklearn.metrics import average_precision_score\n",
    "clf = LogisticRegression(random_state=0)\n",
    "clf.fit(x_train_sm, y_train_sm)\n",
    "\n",
    "y_pred_log = clf.predict(X_test)\n",
    "prec_log = average_precision_score(y_test, y_pred_log)\n",
    "acc_log = accuracy_score(y_test, y_pred_log)\n",
    "classr_log =classification_report(y_test, y_pred_log)\n",
    "\n",
    "print(y_pred_log)\n",
    "print(prec_log)\n",
    "print(classr_log)\n",
    "print(acc_log)\n"
   ]
  },
  {
   "cell_type": "code",
   "execution_count": 15,
   "metadata": {
    "colab": {
     "base_uri": "https://localhost:8080/"
    },
    "id": "0c5dQkHMDqc9",
    "outputId": "54808653-7c65-4461-e12a-45aa89f03532"
   },
   "outputs": [
    {
     "name": "stdout",
     "output_type": "stream",
     "text": [
      "0.09158394161683722\n",
      "0.7963338109590394\n",
      "              precision    recall  f1-score   support\n",
      "\n",
      "           0       0.91      0.86      0.89     18386\n",
      "           1       0.09      0.14      0.11      1853\n",
      "\n",
      "    accuracy                           0.80     20239\n",
      "   macro avg       0.50      0.50      0.50     20239\n",
      "weighted avg       0.83      0.80      0.81     20239\n",
      "\n"
     ]
    }
   ],
   "source": [
    "#Decision tree on Smote balanced data\n",
    "from sklearn.tree import DecisionTreeClassifier\n",
    "\n",
    "DT = DecisionTreeClassifier()\n",
    "DT.fit(x_train_sm, y_train_sm)\n",
    "\n",
    "y_pred_DT = DT.predict(X_test)\n",
    "prec_DT = average_precision_score(y_test, y_pred_DT)\n",
    "acc_DT = accuracy_score(y_test, y_pred_DT)\n",
    "classr_DT =classification_report(y_test, y_pred_DT)\n",
    "\n",
    "print(prec_DT)\n",
    "print(acc_DT)\n",
    "print(classr_DT)\n"
   ]
  },
  {
   "cell_type": "code",
   "execution_count": null,
   "metadata": {},
   "outputs": [],
   "source": [
    "#decision tree hyper parameter tuning on smote data\n",
    "#Define a param_grid dictionary for the given hyper parameters\n",
    "from sklearn.model_selection import GridSearchCV\n",
    "from sklearn.tree import DecisionTreeClassifier\n",
    "\n",
    "\n",
    "criterion=[\"gini\", \"entropy\", \"log_loss\"]\n",
    "splitter=[\"best\", \"random\"]\n",
    "max_depth=[100,150,200]\n",
    "min_samples_split=[2,5]\n",
    "min_samples_leaf=[1,5]\n",
    "max_leaf_nodes=[100,10000,1e6]\n",
    "max_features=[\"auto\", \"sqrt\", \"log2\"]\n",
    "param_grid = {\"criterion\": criterion, \"splitter\": splitter, \"max_features\": max_features,\n",
    "              \"max_depth\": max_depth, \"min_samples_split\": min_samples_split,\n",
    "              \"min_samples_leaf\": min_samples_leaf, \"max_leaf_nodes\": max_leaf_nodes}\n",
    "\n",
    "#call decision tree classifier\n",
    "dtc = DecisionTreeClassifier()\n",
    "\n",
    "#apply gridsearchcv for hyper parameter tuning\n",
    "gridSearch = GridSearchCV(estimator=dtc,param_grid=param_grid,cv=5, verbose=2)\n",
    "\n",
    "#fit the model\n",
    "gridSearch.fit(x_train_sm, y_train_sm)"
   ]
  },
  {
   "cell_type": "markdown",
   "metadata": {},
   "source": [
    "#output of above code(it was ran in another computer)\n",
    "Fitting 5 folds for each of 648 candidates, totalling 3240 fits\n",
    "[CV] END criterion=gini, max_depth=100, max_features=auto, max_leaf_nodes=100, min_samples_leaf=1, min_samples_split=2, splitter=best; total time=   0.0s\n",
    "[CV] END criterion=gini, max_depth=100, max_features=auto, max_leaf_nodes=100, min_samples_leaf=1, min_samples_split=2, splitter=best; total time=   0.0s\n",
    "[CV] END criterion=gini, max_depth=100, max_features=auto, max_leaf_nodes=100, min_samples_leaf=1, min_samples_split=2, splitter=best; total time=   0.0s\n",
    "[CV] END criterion=gini, max_depth=100, max_features=auto, max_leaf_nodes=100, min_samples_leaf=1, min_samples_split=2, splitter=best; total time=   0.0s\n",
    "[CV] END criterion=gini, max_depth=100, max_features=auto, max_leaf_nodes=100, min_samples_leaf=1, min_samples_split=2, splitter=best; total time=   0.0s\n",
    "[CV] END criterion=gini, max_depth=100, max_features=auto, max_leaf_nodes=100, min_samples_leaf=1, min_samples_split=2, splitter=random; total time=   0.0s\n",
    "[CV] END criterion=gini, max_depth=100, max_features=auto, max_leaf_nodes=100, min_samples_leaf=1, min_samples_split=2, splitter=random; total time=   0.0s\n",
    "[CV] END criterion=gini, max_depth=100, max_features=auto, max_leaf_nodes=100, min_samples_leaf=1, min_samples_split=2, splitter=random; total time=   0.0s\n",
    "[CV] END criterion=gini, max_depth=100, max_features=auto, max_leaf_nodes=100, min_samples_leaf=1, min_samples_split=2, splitter=random; total time=   0.0s\n",
    "[CV] END criterion=gini, max_depth=100, max_features=auto, max_leaf_nodes=100, min_samples_leaf=1, min_samples_split=2, splitter=random; total time=   0.0s\n",
    "[CV] END criterion=gini, max_depth=100, max_features=auto, max_leaf_nodes=100, min_samples_leaf=1, min_samples_split=5, splitter=best; total time=   0.0s\n",
    "[CV] END criterion=gini, max_depth=100, max_features=auto, max_leaf_nodes=100, min_samples_leaf=1, min_samples_split=5, splitter=best; total time=   0.0s\n",
    "[CV] END criterion=gini, max_depth=100, max_features=auto, max_leaf_nodes=100, min_samples_leaf=1, min_samples_split=5, splitter=best; total time=   0.0s\n",
    "[CV] END criterion=gini, max_depth=100, max_features=auto, max_leaf_nodes=100, min_samples_leaf=1, min_samples_split=5, splitter=best; total time=   0.0s\n",
    "[CV] END criterion=gini, max_depth=100, max_features=auto, max_leaf_nodes=100, min_samples_leaf=1, min_samples_split=5, splitter=best; total time=   0.0s\n",
    "[CV] END criterion=gini, max_depth=100, max_features=auto, max_leaf_nodes=100, min_samples_leaf=1, min_samples_split=5, splitter=random; total time=   0.0s\n",
    "[CV] END criterion=gini, max_depth=100, max_features=auto, max_leaf_nodes=100, min_samples_leaf=1, min_samples_split=5, splitter=random; total time=   0.0s\n",
    "[CV] END criterion=gini, max_depth=100, max_features=auto, max_leaf_nodes=100, min_samples_leaf=1, min_samples_split=5, splitter=random; total time=   0.0s\n",
    "[CV] END criterion=gini, max_depth=100, max_features=auto, max_leaf_nodes=100, min_samples_leaf=1, min_samples_split=5, splitter=random; total time=   0.0s\n",
    "[CV] END criterion=gini, max_depth=100, max_features=auto, max_leaf_nodes=100, min_samples_leaf=1, min_samples_split=5, splitter=random; total time=   0.0s\n",
    "[CV] END criterion=gini, max_depth=100, max_features=auto, max_leaf_nodes=100, min_samples_leaf=5, min_samples_split=2, splitter=best; total time=   0.0s\n",
    "[CV] END criterion=gini, max_depth=100, max_features=auto, max_leaf_nodes=100, min_samples_leaf=5, min_samples_split=2, splitter=best; total time=   0.0s\n",
    "[CV] END criterion=gini, max_depth=100, max_features=auto, max_leaf_nodes=100, min_samples_leaf=5, min_samples_split=2, splitter=best; total time=   0.0s\n",
    "[CV] END criterion=gini, max_depth=100, max_features=auto, max_leaf_nodes=100, min_samples_leaf=5, min_samples_split=2, splitter=best; total time=   0.0s\n",
    "...\n",
    "[CV] END criterion=log_loss, max_depth=200, max_features=log2, max_leaf_nodes=1000000.0, min_samples_leaf=5, min_samples_split=5, splitter=random; total time=   0.0s\n",
    "[CV] END criterion=log_loss, max_depth=200, max_features=log2, max_leaf_nodes=1000000.0, min_samples_leaf=5, min_samples_split=5, splitter=random; total time=   0.0s\n",
    "[CV] END criterion=log_loss, max_depth=200, max_features=log2, max_leaf_nodes=1000000.0, min_samples_leaf=5, min_samples_split=5, splitter=random; total time=   0.0s\n",
    "[CV] END criterion=log_loss, max_depth=200, max_features=log2, max_leaf_nodes=1000000.0, min_samples_leaf=5, min_samples_split=5, splitter=random; total time=   0.0s\n"
   ]
  },
  {
   "cell_type": "code",
   "execution_count": null,
   "metadata": {},
   "outputs": [],
   "source": [
    "#print the best parameters\n",
    "print(gridSearch.best_estimator_)\n"
   ]
  },
  {
   "cell_type": "markdown",
   "metadata": {},
   "source": [
    "OUTPUT\n",
    "DecisionTreeClassifier(criterion='log_loss', max_depth=200, max_features='sqrt',\n",
    "                       max_leaf_nodes=10000, min_samples_split=5)"
   ]
  },
  {
   "cell_type": "code",
   "execution_count": null,
   "metadata": {},
   "outputs": [],
   "source": [
    "#fitting the model with best parameters\n",
    "dtcFinal=DecisionTreeClassifier(criterion='log_loss', max_depth=200, max_features='sqrt',\n",
    "                       max_leaf_nodes=10000, min_samples_split=5)\n",
    "\n",
    "dtcFinal.fit(x_train_sm, y_train_sm)\n",
    "\n",
    "#Predict the labels for test data\n",
    "y_test_pred_dtcf = dtcFinal.predict(X_test)\n",
    "\n",
    "acc_dt = accuracy_score(y_test, y_test_pred_dtcf)\n",
    "classr_dt =classification_report(y_test, y_test_pred_dtcf)\n",
    "f_score_dt = f1_score(y_test, y_test_pred_dtcf, average = None)\n",
    "roc_auc_SCORE_dt = roc_auc_score(y_test, y_test_pred_dtcf)\n",
    "print(acc_dt)\n",
    "print(classr_dt)\n",
    "print(f_score_dt)\n",
    "print(roc_auc_SCORE_dt)"
   ]
  },
  {
   "cell_type": "markdown",
   "metadata": {},
   "source": [
    "OUTPUT\n",
    "0.7901082069272197\n",
    "              precision    recall  f1-score   support\n",
    "\n",
    "           0       0.91      0.85      0.88     18386\n",
    "           1       0.11      0.18      0.13      1853\n",
    "\n",
    "    accuracy                           0.79     20239\n",
    "   macro avg       0.51      0.51      0.51     20239\n",
    "weighted avg       0.84      0.79      0.81     20239\n",
    "\n",
    "[0.88058695 0.13376835]\n",
    "0.5144542185215775\n"
   ]
  },
  {
   "cell_type": "code",
   "execution_count": 16,
   "metadata": {
    "colab": {
     "base_uri": "https://localhost:8080/"
    },
    "id": "OhQAxYd5FaMv",
    "outputId": "129a367b-1e9f-4162-a8a6-959a2cb26d3c"
   },
   "outputs": [
    {
     "name": "stdout",
     "output_type": "stream",
     "text": [
      "0.09209149352057093\n",
      "0.9076535401946737\n",
      "              precision    recall  f1-score   support\n",
      "\n",
      "           0       0.91      1.00      0.95     18386\n",
      "           1       0.23      0.00      0.01      1853\n",
      "\n",
      "    accuracy                           0.91     20239\n",
      "   macro avg       0.57      0.50      0.48     20239\n",
      "weighted avg       0.85      0.91      0.87     20239\n",
      "\n"
     ]
    }
   ],
   "source": [
    "#Random Forest on Smote balanced data\n",
    "from sklearn.ensemble import RandomForestClassifier\n",
    "RFC = RandomForestClassifier()\n",
    "RFC.fit(x_train_sm, y_train_sm)\n",
    "\n",
    "y_pred_RFC = RFC.predict(X_test)\n",
    "prec_RFC = average_precision_score(y_test, y_pred_RFC)\n",
    "acc_RFC = accuracy_score(y_test, y_pred_RFC)\n",
    "classr_RFC =classification_report(y_test, y_pred_RFC)\n",
    "print(prec_RFC)\n",
    "print(acc_RFC)\n",
    "print(classr_RFC)\n"
   ]
  },
  {
   "cell_type": "code",
   "execution_count": 17,
   "metadata": {},
   "outputs": [
    {
     "name": "stderr",
     "output_type": "stream",
     "text": [
      "/home/rajesh/anaconda3/lib/python3.11/site-packages/sklearn/model_selection/_validation.py:425: FitFailedWarning: \n",
      "30 fits failed out of a total of 50.\n",
      "The score on these train-test partitions for these parameters will be set to nan.\n",
      "If these failures are not expected, you can try to debug them by setting error_score='raise'.\n",
      "\n",
      "Below are more details about the failures:\n",
      "--------------------------------------------------------------------------------\n",
      "15 fits failed with the following error:\n",
      "Traceback (most recent call last):\n",
      "  File \"/home/rajesh/anaconda3/lib/python3.11/site-packages/sklearn/model_selection/_validation.py\", line 732, in _fit_and_score\n",
      "    estimator.fit(X_train, y_train, **fit_params)\n",
      "  File \"/home/rajesh/anaconda3/lib/python3.11/site-packages/sklearn/base.py\", line 1144, in wrapper\n",
      "    estimator._validate_params()\n",
      "  File \"/home/rajesh/anaconda3/lib/python3.11/site-packages/sklearn/base.py\", line 637, in _validate_params\n",
      "    validate_parameter_constraints(\n",
      "  File \"/home/rajesh/anaconda3/lib/python3.11/site-packages/sklearn/utils/_param_validation.py\", line 95, in validate_parameter_constraints\n",
      "    raise InvalidParameterError(\n",
      "sklearn.utils._param_validation.InvalidParameterError: The 'max_depth' parameter of RandomForestClassifier must be an int in the range [1, inf) or None. Got 100000.0 instead.\n",
      "\n",
      "--------------------------------------------------------------------------------\n",
      "5 fits failed with the following error:\n",
      "Traceback (most recent call last):\n",
      "  File \"/home/rajesh/anaconda3/lib/python3.11/site-packages/sklearn/model_selection/_validation.py\", line 732, in _fit_and_score\n",
      "    estimator.fit(X_train, y_train, **fit_params)\n",
      "  File \"/home/rajesh/anaconda3/lib/python3.11/site-packages/sklearn/base.py\", line 1144, in wrapper\n",
      "    estimator._validate_params()\n",
      "  File \"/home/rajesh/anaconda3/lib/python3.11/site-packages/sklearn/base.py\", line 637, in _validate_params\n",
      "    validate_parameter_constraints(\n",
      "  File \"/home/rajesh/anaconda3/lib/python3.11/site-packages/sklearn/utils/_param_validation.py\", line 95, in validate_parameter_constraints\n",
      "    raise InvalidParameterError(\n",
      "sklearn.utils._param_validation.InvalidParameterError: The 'max_features' parameter of RandomForestClassifier must be an int in the range [1, inf), a float in the range (0.0, 1.0], a str among {'sqrt', 'log2'} or None. Got 'auto' instead.\n",
      "\n",
      "--------------------------------------------------------------------------------\n",
      "10 fits failed with the following error:\n",
      "Traceback (most recent call last):\n",
      "  File \"/home/rajesh/anaconda3/lib/python3.11/site-packages/sklearn/model_selection/_validation.py\", line 732, in _fit_and_score\n",
      "    estimator.fit(X_train, y_train, **fit_params)\n",
      "  File \"/home/rajesh/anaconda3/lib/python3.11/site-packages/sklearn/base.py\", line 1144, in wrapper\n",
      "    estimator._validate_params()\n",
      "  File \"/home/rajesh/anaconda3/lib/python3.11/site-packages/sklearn/base.py\", line 637, in _validate_params\n",
      "    validate_parameter_constraints(\n",
      "  File \"/home/rajesh/anaconda3/lib/python3.11/site-packages/sklearn/utils/_param_validation.py\", line 95, in validate_parameter_constraints\n",
      "    raise InvalidParameterError(\n",
      "sklearn.utils._param_validation.InvalidParameterError: The 'min_samples_split' parameter of RandomForestClassifier must be an int in the range [2, inf) or a float in the range (0.0, 1.0]. Got 1 instead.\n",
      "\n",
      "  warnings.warn(some_fits_failed_message, FitFailedWarning)\n",
      "/home/rajesh/anaconda3/lib/python3.11/site-packages/sklearn/model_selection/_search.py:976: UserWarning: One or more of the test scores are non-finite: [0.91604183        nan        nan 0.87074098 0.87277202        nan\n",
      "        nan 0.86926994        nan        nan]\n",
      "  warnings.warn(\n"
     ]
    },
    {
     "data": {
      "text/html": [
       "<style>#sk-container-id-1 {color: black;}#sk-container-id-1 pre{padding: 0;}#sk-container-id-1 div.sk-toggleable {background-color: white;}#sk-container-id-1 label.sk-toggleable__label {cursor: pointer;display: block;width: 100%;margin-bottom: 0;padding: 0.3em;box-sizing: border-box;text-align: center;}#sk-container-id-1 label.sk-toggleable__label-arrow:before {content: \"▸\";float: left;margin-right: 0.25em;color: #696969;}#sk-container-id-1 label.sk-toggleable__label-arrow:hover:before {color: black;}#sk-container-id-1 div.sk-estimator:hover label.sk-toggleable__label-arrow:before {color: black;}#sk-container-id-1 div.sk-toggleable__content {max-height: 0;max-width: 0;overflow: hidden;text-align: left;background-color: #f0f8ff;}#sk-container-id-1 div.sk-toggleable__content pre {margin: 0.2em;color: black;border-radius: 0.25em;background-color: #f0f8ff;}#sk-container-id-1 input.sk-toggleable__control:checked~div.sk-toggleable__content {max-height: 200px;max-width: 100%;overflow: auto;}#sk-container-id-1 input.sk-toggleable__control:checked~label.sk-toggleable__label-arrow:before {content: \"▾\";}#sk-container-id-1 div.sk-estimator input.sk-toggleable__control:checked~label.sk-toggleable__label {background-color: #d4ebff;}#sk-container-id-1 div.sk-label input.sk-toggleable__control:checked~label.sk-toggleable__label {background-color: #d4ebff;}#sk-container-id-1 input.sk-hidden--visually {border: 0;clip: rect(1px 1px 1px 1px);clip: rect(1px, 1px, 1px, 1px);height: 1px;margin: -1px;overflow: hidden;padding: 0;position: absolute;width: 1px;}#sk-container-id-1 div.sk-estimator {font-family: monospace;background-color: #f0f8ff;border: 1px dotted black;border-radius: 0.25em;box-sizing: border-box;margin-bottom: 0.5em;}#sk-container-id-1 div.sk-estimator:hover {background-color: #d4ebff;}#sk-container-id-1 div.sk-parallel-item::after {content: \"\";width: 100%;border-bottom: 1px solid gray;flex-grow: 1;}#sk-container-id-1 div.sk-label:hover label.sk-toggleable__label {background-color: #d4ebff;}#sk-container-id-1 div.sk-serial::before {content: \"\";position: absolute;border-left: 1px solid gray;box-sizing: border-box;top: 0;bottom: 0;left: 50%;z-index: 0;}#sk-container-id-1 div.sk-serial {display: flex;flex-direction: column;align-items: center;background-color: white;padding-right: 0.2em;padding-left: 0.2em;position: relative;}#sk-container-id-1 div.sk-item {position: relative;z-index: 1;}#sk-container-id-1 div.sk-parallel {display: flex;align-items: stretch;justify-content: center;background-color: white;position: relative;}#sk-container-id-1 div.sk-item::before, #sk-container-id-1 div.sk-parallel-item::before {content: \"\";position: absolute;border-left: 1px solid gray;box-sizing: border-box;top: 0;bottom: 0;left: 50%;z-index: -1;}#sk-container-id-1 div.sk-parallel-item {display: flex;flex-direction: column;z-index: 1;position: relative;background-color: white;}#sk-container-id-1 div.sk-parallel-item:first-child::after {align-self: flex-end;width: 50%;}#sk-container-id-1 div.sk-parallel-item:last-child::after {align-self: flex-start;width: 50%;}#sk-container-id-1 div.sk-parallel-item:only-child::after {width: 0;}#sk-container-id-1 div.sk-dashed-wrapped {border: 1px dashed gray;margin: 0 0.4em 0.5em 0.4em;box-sizing: border-box;padding-bottom: 0.4em;background-color: white;}#sk-container-id-1 div.sk-label label {font-family: monospace;font-weight: bold;display: inline-block;line-height: 1.2em;}#sk-container-id-1 div.sk-label-container {text-align: center;}#sk-container-id-1 div.sk-container {/* jupyter's `normalize.less` sets `[hidden] { display: none; }` but bootstrap.min.css set `[hidden] { display: none !important; }` so we also need the `!important` here to be able to override the default hidden behavior on the sphinx rendered scikit-learn.org. See: https://github.com/scikit-learn/scikit-learn/issues/21755 */display: inline-block !important;position: relative;}#sk-container-id-1 div.sk-text-repr-fallback {display: none;}</style><div id=\"sk-container-id-1\" class=\"sk-top-container\"><div class=\"sk-text-repr-fallback\"><pre>RandomizedSearchCV(cv=5, estimator=RandomForestClassifier(),\n",
       "                   param_distributions={&#x27;bootstrap&#x27;: [True, False],\n",
       "                                        &#x27;max_depth&#x27;: [None, 10, 100, 1000,\n",
       "                                                      10000, 100000.0],\n",
       "                                        &#x27;max_features&#x27;: [&#x27;sqrt&#x27;, &#x27;log2&#x27;, None,\n",
       "                                                         &#x27;auto&#x27;, 20, 30, 40],\n",
       "                                        &#x27;max_leaf_nodes&#x27;: [100, 1000, 10000,\n",
       "                                                           100000.0,\n",
       "                                                           1000000.0],\n",
       "                                        &#x27;min_samples_leaf&#x27;: [2, 3, 5, 7, 9, 11],\n",
       "                                        &#x27;min_samples_split&#x27;: [1, 5, 7, 9, 11,\n",
       "                                                              13],\n",
       "                                        &#x27;n_estimators&#x27;: [20, 50, 100, 150, 200,\n",
       "                                                         300]})</pre><b>In a Jupyter environment, please rerun this cell to show the HTML representation or trust the notebook. <br />On GitHub, the HTML representation is unable to render, please try loading this page with nbviewer.org.</b></div><div class=\"sk-container\" hidden><div class=\"sk-item sk-dashed-wrapped\"><div class=\"sk-label-container\"><div class=\"sk-label sk-toggleable\"><input class=\"sk-toggleable__control sk-hidden--visually\" id=\"sk-estimator-id-1\" type=\"checkbox\" ><label for=\"sk-estimator-id-1\" class=\"sk-toggleable__label sk-toggleable__label-arrow\">RandomizedSearchCV</label><div class=\"sk-toggleable__content\"><pre>RandomizedSearchCV(cv=5, estimator=RandomForestClassifier(),\n",
       "                   param_distributions={&#x27;bootstrap&#x27;: [True, False],\n",
       "                                        &#x27;max_depth&#x27;: [None, 10, 100, 1000,\n",
       "                                                      10000, 100000.0],\n",
       "                                        &#x27;max_features&#x27;: [&#x27;sqrt&#x27;, &#x27;log2&#x27;, None,\n",
       "                                                         &#x27;auto&#x27;, 20, 30, 40],\n",
       "                                        &#x27;max_leaf_nodes&#x27;: [100, 1000, 10000,\n",
       "                                                           100000.0,\n",
       "                                                           1000000.0],\n",
       "                                        &#x27;min_samples_leaf&#x27;: [2, 3, 5, 7, 9, 11],\n",
       "                                        &#x27;min_samples_split&#x27;: [1, 5, 7, 9, 11,\n",
       "                                                              13],\n",
       "                                        &#x27;n_estimators&#x27;: [20, 50, 100, 150, 200,\n",
       "                                                         300]})</pre></div></div></div><div class=\"sk-parallel\"><div class=\"sk-parallel-item\"><div class=\"sk-item\"><div class=\"sk-label-container\"><div class=\"sk-label sk-toggleable\"><input class=\"sk-toggleable__control sk-hidden--visually\" id=\"sk-estimator-id-2\" type=\"checkbox\" ><label for=\"sk-estimator-id-2\" class=\"sk-toggleable__label sk-toggleable__label-arrow\">estimator: RandomForestClassifier</label><div class=\"sk-toggleable__content\"><pre>RandomForestClassifier()</pre></div></div></div><div class=\"sk-serial\"><div class=\"sk-item\"><div class=\"sk-estimator sk-toggleable\"><input class=\"sk-toggleable__control sk-hidden--visually\" id=\"sk-estimator-id-3\" type=\"checkbox\" ><label for=\"sk-estimator-id-3\" class=\"sk-toggleable__label sk-toggleable__label-arrow\">RandomForestClassifier</label><div class=\"sk-toggleable__content\"><pre>RandomForestClassifier()</pre></div></div></div></div></div></div></div></div></div></div>"
      ],
      "text/plain": [
       "RandomizedSearchCV(cv=5, estimator=RandomForestClassifier(),\n",
       "                   param_distributions={'bootstrap': [True, False],\n",
       "                                        'max_depth': [None, 10, 100, 1000,\n",
       "                                                      10000, 100000.0],\n",
       "                                        'max_features': ['sqrt', 'log2', None,\n",
       "                                                         'auto', 20, 30, 40],\n",
       "                                        'max_leaf_nodes': [100, 1000, 10000,\n",
       "                                                           100000.0,\n",
       "                                                           1000000.0],\n",
       "                                        'min_samples_leaf': [2, 3, 5, 7, 9, 11],\n",
       "                                        'min_samples_split': [1, 5, 7, 9, 11,\n",
       "                                                              13],\n",
       "                                        'n_estimators': [20, 50, 100, 150, 200,\n",
       "                                                         300]})"
      ]
     },
     "execution_count": 17,
     "metadata": {},
     "output_type": "execute_result"
    }
   ],
   "source": [
    "#hyperparemeter tuning of random forest on smote data\n",
    "from sklearn.model_selection import RandomizedSearchCV\n",
    "n_estimators=[20,50,100,150,200,300]\n",
    "max_features=['sqrt', 'log2', None, 'auto', 20, 30, 40]\n",
    "max_depth=[None, 10,100,1000,10000,1e5]\n",
    "min_samples_split=[1,5,7,9,11,13]\n",
    "min_samples_leaf=[2,3,5,7,9,11]\n",
    "max_leaf_nodes=[100,1000,10000,1e5,1e6]\n",
    "bootstrap=[True, False]\n",
    "\n",
    "param_distributions={\"n_estimators\": n_estimators, \"max_features\": max_features,\n",
    "                     \"max_depth\": max_depth, \"min_samples_split\": min_samples_split,\n",
    "                     \"min_samples_leaf\": min_samples_leaf, \"max_leaf_nodes\": max_leaf_nodes,\n",
    "                     \"bootstrap\": bootstrap} \n",
    "#call random forest classifier\n",
    "RFC = RandomForestClassifier()\n",
    "#Apply randomised search cv for hyper parameter tuning\n",
    "Randsearch=RandomizedSearchCV(estimator=RFC, param_distributions=param_distributions,cv=5                                                                                                                                                                                                                                                                                                                                                                                                                                                                                                                                                                                                                                                                                                                                                                                                                                                                                                                                                                                                                                                                                                                                                                                                                                                                                                                                                                                                                                                               )\n",
    "#fit the model\n",
    "Randsearch.fit(x_train_sm, y_train_sm)"
   ]
  },
  {
   "cell_type": "code",
   "execution_count": 18,
   "metadata": {},
   "outputs": [
    {
     "name": "stdout",
     "output_type": "stream",
     "text": [
      "RandomForestClassifier(max_depth=1000, max_features=20, max_leaf_nodes=1000,\n",
      "                       min_samples_leaf=2, min_samples_split=9,\n",
      "                       n_estimators=300)\n"
     ]
    }
   ],
   "source": [
    "#finifng the best parameters\n",
    "\n",
    "Best_parameter = Randsearch.best_estimator_\n",
    "print(Best_parameter)\n",
    "\n",
    "\n"
   ]
  },
  {
   "cell_type": "code",
   "execution_count": 19,
   "metadata": {},
   "outputs": [
    {
     "name": "stdout",
     "output_type": "stream",
     "text": [
      "0.09270172316413602\n",
      "              precision    recall  f1-score   support\n",
      "\n",
      "           0       0.91      1.00      0.95     18386\n",
      "           1       0.19      0.01      0.02      1853\n",
      "\n",
      "    accuracy                           0.91     20239\n",
      "   macro avg       0.55      0.50      0.49     20239\n",
      "weighted avg       0.84      0.91      0.87     20239\n",
      "\n"
     ]
    }
   ],
   "source": [
    "#fitting the model with best parametrs\n",
    "RFCFinal = RandomForestClassifier(max_depth=1000, max_features=20, max_leaf_nodes=1000,\n",
    "                       min_samples_leaf=2, min_samples_split=9,\n",
    "                       n_estimators=300)\n",
    "RFCFinal.fit(x_train_sm, y_train_sm)\n",
    "\n",
    "\n",
    "\n",
    "y_train_pred_RFCF = RFCFinal.predict(X_test)\n",
    "prec_RFCF = average_precision_score(y_test, y_train_pred_RFCF )\n",
    "acc_RFCF = accuracy_score(y_test, y_train_pred_RFCF )\n",
    "classr_RFCF =classification_report(y_test, y_train_pred_RFCF )\n",
    "\n",
    "\n",
    "print(prec_RFCF)\n",
    "print(classr_RFCF)\n",
    "#Predict the labels for test data"
   ]
  },
  {
   "cell_type": "code",
   "execution_count": 21,
   "metadata": {},
   "outputs": [
    {
     "name": "stdout",
     "output_type": "stream",
     "text": [
      "0.9051336528484609\n"
     ]
    }
   ],
   "source": [
    "print(acc_RFCF)"
   ]
  },
  {
   "cell_type": "code",
   "execution_count": 10,
   "metadata": {},
   "outputs": [],
   "source": [
    "#svm using smote data, it will take  a bit long\n",
    "from sklearn.svm import SVC\n",
    "svm_model = SVC(kernel='linear', random_state=42)\n",
    "svm_model.fit(x_train_sm, y_train_sm) \n",
    "\n",
    "y_pred_svm = svm_model.predict(X_test)\n",
    "prec_svm = average_precision_score(y_test, y_pred_svm)\n",
    "acc_svm = accuracy_score(y_test, y_pred_svm)\n",
    "classr_svm =classification_report(y_test, y_pred_svm)\n",
    "\n",
    "print(y_pred_svm)\n",
    "print(prec_svm)\n",
    "print(classr_svm)"
   ]
  },
  {
   "cell_type": "code",
   "execution_count": null,
   "metadata": {
    "colab": {
     "base_uri": "https://localhost:8080/"
    },
    "id": "zbRAcdglOBI4",
    "outputId": "55df729a-f8bb-42cb-c3f0-0e8ea8302fc8"
   },
   "outputs": [
    {
     "name": "stdout",
     "output_type": "stream",
     "text": [
      "0.09214253842609857\n",
      "0.9079499975295222\n",
      "              precision    recall  f1-score   support\n",
      "\n",
      "           0       0.91      1.00      0.95     18386\n",
      "           1       0.27      0.00      0.01      1853\n",
      "\n",
      "    accuracy                           0.91     20239\n",
      "   macro avg       0.59      0.50      0.48     20239\n",
      "weighted avg       0.85      0.91      0.87     20239\n",
      "\n"
     ]
    }
   ],
   "source": [
    "#XGboost using on smote data\n",
    "from sklearn.ensemble import GradientBoostingClassifier\n",
    "\n",
    "xgb= GradientBoostingClassifier(n_estimators=100, learning_rate=0.1,max_depth=3, random_state=0)\n",
    "xgb.fit(x_train_sm, y_train_sm)\n",
    "\n",
    "y_pred_xgb = xgb.predict(X_test)\n",
    "prec_xgb = average_precision_score(y_test, y_pred_xgb)\n",
    "acc_xgb = accuracy_score(y_test, y_pred_xgb)\n",
    "classr_xgb =classification_report(y_test, y_pred_xgb)\n",
    "\n",
    "print(prec_xgb)\n",
    "print(acc_xgb)\n",
    "print(classr_xgb)\n"
   ]
  },
  {
   "cell_type": "code",
   "execution_count": null,
   "metadata": {
    "colab": {
     "base_uri": "https://localhost:8080/"
    },
    "id": "pFM4UGkUeB_a",
    "outputId": "b053f9fa-16d1-4bcf-923b-99f5d575bcbd"
   },
   "outputs": [
    {
     "name": "stdout",
     "output_type": "stream",
     "text": [
      "              precision    recall  f1-score   support\n",
      "\n",
      "           0       0.91      0.41      0.56     18386\n",
      "           1       0.09      0.58      0.16      1853\n",
      "\n",
      "    accuracy                           0.42     20239\n",
      "   macro avg       0.50      0.49      0.36     20239\n",
      "weighted avg       0.83      0.42      0.52     20239\n",
      "\n",
      "0.4229457977172785\n"
     ]
    }
   ],
   "source": [
    "#Logistic regression using Adasyn data\n",
    "clf2 = LogisticRegression(random_state=0)#ADASYN\n",
    "clf2.fit(x_train_ada, y_train_ada)\n",
    "\n",
    "y_pred_log2 = clf2.predict(X_test)\n",
    "acc_log2 = accuracy_score(y_test, y_pred_log2)\n",
    "classr_log2 =classification_report(y_test, y_pred_log2)\n",
    "\n",
    "\n",
    "print(classr_log2)\n",
    "print(acc_log2)\n",
    "#print(y_pred2)"
   ]
  },
  {
   "cell_type": "code",
   "execution_count": null,
   "metadata": {
    "colab": {
     "base_uri": "https://localhost:8080/"
    },
    "id": "sozc2Z04GC-W",
    "outputId": "ac9bffbe-162a-4088-8b90-0c7b0427b49c"
   },
   "outputs": [
    {
     "name": "stdout",
     "output_type": "stream",
     "text": [
      "0.09294785000941717\n",
      "0.7970749542961609\n",
      "              precision    recall  f1-score   support\n",
      "\n",
      "           0       0.91      0.86      0.89     18386\n",
      "           1       0.10      0.15      0.12      1853\n",
      "\n",
      "    accuracy                           0.80     20239\n",
      "   macro avg       0.51      0.51      0.50     20239\n",
      "weighted avg       0.84      0.80      0.82     20239\n",
      "\n"
     ]
    }
   ],
   "source": [
    "#deciosontree using adasyn data\n",
    "DT2 = DecisionTreeClassifier()\n",
    "DT2.fit(x_train_ada, y_train_ada)\n",
    "\n",
    "y_pred_DT2 = DT2.predict(X_test)\n",
    "prec_DT2 = average_precision_score(y_test, y_pred_DT2)\n",
    "acc_DT2 = accuracy_score(y_test, y_pred_DT2)\n",
    "classr_DT2 =classification_report(y_test, y_pred_DT2)\n",
    "\n",
    "print(prec_DT2)\n",
    "print(acc_DT2)\n",
    "print(classr_DT2)\n"
   ]
  },
  {
   "cell_type": "code",
   "execution_count": null,
   "metadata": {
    "colab": {
     "base_uri": "https://localhost:8080/"
    },
    "id": "Hizu2pUnGUOf",
    "outputId": "47be1f50-f321-4444-cbe0-ac124b013af3"
   },
   "outputs": [
    {
     "name": "stdout",
     "output_type": "stream",
     "text": [
      "0.09196557159216653\n",
      "0.9074064924156332\n",
      "              precision    recall  f1-score   support\n",
      "\n",
      "           0       0.91      1.00      0.95     18386\n",
      "           1       0.20      0.00      0.01      1853\n",
      "\n",
      "    accuracy                           0.91     20239\n",
      "   macro avg       0.55      0.50      0.48     20239\n",
      "weighted avg       0.84      0.91      0.87     20239\n",
      "\n"
     ]
    }
   ],
   "source": [
    "#Randomforest using Adasyn data\n",
    "RFC2 = RandomForestClassifier()\n",
    "RFC2.fit(x_train_ada, y_train_ada)\n",
    "\n",
    "y_pred_RFC2 = RFC2.predict(X_test)\n",
    "prec_RFC2 = average_precision_score(y_test, y_pred_RFC2)\n",
    "acc_RFC2 = accuracy_score(y_test, y_pred_RFC2)\n",
    "classr_RFC2 =classification_report(y_test, y_pred_RFC2)\n",
    "\n",
    "print(prec_RFC2)\n",
    "print(acc_RFC2)\n",
    "print(classr_RFC2)\n"
   ]
  },
  {
   "cell_type": "code",
   "execution_count": null,
   "metadata": {
    "colab": {
     "base_uri": "https://localhost:8080/"
    },
    "id": "JXqzn0ZgPh6B",
    "outputId": "6c0d74de-e7da-4d79-825a-fe7e2b2d15f8"
   },
   "outputs": [
    {
     "name": "stdout",
     "output_type": "stream",
     "text": [
      "0.09268700911548443\n",
      "0.8831958100696675\n",
      "              precision    recall  f1-score   support\n",
      "\n",
      "           0       0.91      0.97      0.94     18386\n",
      "           1       0.12      0.04      0.06      1853\n",
      "\n",
      "    accuracy                           0.88     20239\n",
      "   macro avg       0.51      0.51      0.50     20239\n",
      "weighted avg       0.84      0.88      0.86     20239\n",
      "\n"
     ]
    }
   ],
   "source": [
    "#XGBoost on ADASYn data\n",
    "xgb2= GradientBoostingClassifier(n_estimators=100, learning_rate=1.0,max_depth=5, random_state=0)\n",
    "xgb2.fit(x_train_ada, y_train_ada)\n",
    "\n",
    "y_pred_xgb2 = xgb2.predict(X_test)\n",
    "prec_xgb2 = average_precision_score(y_test, y_pred_xgb2)\n",
    "acc_xgb2 = accuracy_score(y_test, y_pred_xgb2)\n",
    "classr_xgb2 =classification_report(y_test, y_pred_xgb2)\n",
    "\n",
    "print(prec_xgb2)\n",
    "print(acc_xgb2)\n",
    "print(classr_xgb2)\n"
   ]
  },
  {
   "cell_type": "code",
   "execution_count": null,
   "metadata": {
    "colab": {
     "base_uri": "https://localhost:8080/"
    },
    "id": "LUDkzPe0fpBL",
    "outputId": "e255a477-c76a-434f-8e32-a277fa298dc3"
   },
   "outputs": [
    {
     "name": "stdout",
     "output_type": "stream",
     "text": [
      "              precision    recall  f1-score   support\n",
      "\n",
      "           0       0.91      0.49      0.64     18386\n",
      "           1       0.09      0.51      0.15      1853\n",
      "\n",
      "    accuracy                           0.50     20239\n",
      "   macro avg       0.50      0.50      0.40     20239\n",
      "weighted avg       0.83      0.50      0.60     20239\n",
      "\n",
      "0.4954296160877514\n"
     ]
    }
   ],
   "source": [
    "#Logistic regression using SMOTETEk data\n",
    "clf3 = LogisticRegression(random_state=0) #SMOTETomek\n",
    "clf3.fit(x_train_smtok, y_train_smtok)\n",
    "\n",
    "y_pred_log3 = clf3.predict(X_test)\n",
    "acc_log3 = accuracy_score(y_test, y_pred_log3)\n",
    "classr_log3 =classification_report(y_test, y_pred_log3)\n",
    "\n",
    "\n",
    "print(classr_log3)\n",
    "\n",
    "print(acc_log3)\n",
    "#print(y_pred2)"
   ]
  },
  {
   "cell_type": "code",
   "execution_count": null,
   "metadata": {
    "colab": {
     "base_uri": "https://localhost:8080/"
    },
    "id": "Zl6p2fRaHOuN",
    "outputId": "86fe82ac-db2d-47bc-c090-2401d6b6b5b3"
   },
   "outputs": [
    {
     "name": "stdout",
     "output_type": "stream",
     "text": [
      "0.09084915215773971\n",
      "0.7926775038292406\n",
      "              precision    recall  f1-score   support\n",
      "\n",
      "           0       0.91      0.86      0.88     18386\n",
      "           1       0.09      0.13      0.10      1853\n",
      "\n",
      "    accuracy                           0.79     20239\n",
      "   macro avg       0.50      0.50      0.49     20239\n",
      "weighted avg       0.83      0.79      0.81     20239\n",
      "\n"
     ]
    }
   ],
   "source": [
    "#decision tree using SMOTETEK data\n",
    "DT3 = DecisionTreeClassifier()\n",
    "DT3.fit(x_train_smtok, y_train_smtok)\n",
    "\n",
    "y_pred_DT3 = DT3.predict(X_test)\n",
    "prec_DT3 = average_precision_score(y_test, y_pred_DT3)\n",
    "acc_DT3 = accuracy_score(y_test, y_pred_DT3)\n",
    "classr_DT3 =classification_report(y_test, y_pred_DT3)\n",
    "\n",
    "print(prec_DT3)\n",
    "print(acc_DT3)\n",
    "print(classr_DT3)\n"
   ]
  },
  {
   "cell_type": "code",
   "execution_count": null,
   "metadata": {
    "colab": {
     "base_uri": "https://localhost:8080/"
    },
    "id": "C0h6pEJPHg5C",
    "outputId": "6b32369d-7f0c-4faa-ad66-c7db4a88bbe3"
   },
   "outputs": [
    {
     "name": "stdout",
     "output_type": "stream",
     "text": [
      "0.09218943279821878\n",
      "0.907801768862098\n",
      "              precision    recall  f1-score   support\n",
      "\n",
      "           0       0.91      1.00      0.95     18386\n",
      "           1       0.26      0.00      0.01      1853\n",
      "\n",
      "    accuracy                           0.91     20239\n",
      "   macro avg       0.58      0.50      0.48     20239\n",
      "weighted avg       0.85      0.91      0.87     20239\n",
      "\n"
     ]
    }
   ],
   "source": [
    "#Randomforest using SMOtetek data\n",
    "RFC3 = RandomForestClassifier()\n",
    "RFC3.fit(x_train_smtok, y_train_smtok)\n",
    "\n",
    "y_pred_RFC3 = RFC3.predict(X_test)\n",
    "prec_RFC3 = average_precision_score(y_test, y_pred_RFC3)\n",
    "acc_RFC3 = accuracy_score(y_test, y_pred_RFC3)\n",
    "classr_RFC3 =classification_report(y_test, y_pred_RFC3)\n",
    "\n",
    "print(prec_RFC3)\n",
    "print(acc_RFC3)\n",
    "print(classr_RFC3)\n"
   ]
  },
  {
   "cell_type": "code",
   "execution_count": null,
   "metadata": {
    "colab": {
     "base_uri": "https://localhost:8080/"
    },
    "id": "e6o7BZZrQX2V",
    "outputId": "eff93c1d-1913-4113-8225-4a551cff5596"
   },
   "outputs": [
    {
     "name": "stdout",
     "output_type": "stream",
     "text": [
      "0.09231390009440477\n",
      "0.8852216018577993\n",
      "              precision    recall  f1-score   support\n",
      "\n",
      "           0       0.91      0.97      0.94     18386\n",
      "           1       0.11      0.04      0.06      1853\n",
      "\n",
      "    accuracy                           0.89     20239\n",
      "   macro avg       0.51      0.50      0.50     20239\n",
      "weighted avg       0.84      0.89      0.86     20239\n",
      "\n"
     ]
    }
   ],
   "source": [
    "#XGboost using smtotek data\n",
    "xgb3= GradientBoostingClassifier(n_estimators=100, learning_rate=1.0,max_depth=5, random_state=0)\n",
    "xgb3.fit(x_train_smtok, y_train_smtok)\n",
    "\n",
    "y_pred_xgb3 = xgb3.predict(X_test)\n",
    "prec_xgb3 = average_precision_score(y_test, y_pred_xgb3)\n",
    "acc_xgb3 = accuracy_score(y_test, y_pred_xgb3)\n",
    "classr_xgb3 =classification_report(y_test, y_pred_xgb3)\n",
    "\n",
    "print(prec_xgb3)\n",
    "print(acc_xgb3)\n",
    "print(classr_xgb3)\n"
   ]
  },
  {
   "cell_type": "code",
   "execution_count": null,
   "metadata": {
    "colab": {
     "base_uri": "https://localhost:8080/"
    },
    "id": "UpNJl8ivgWDY",
    "outputId": "3ff36ab5-edf3-4f3b-8391-e6d34423cb1a"
   },
   "outputs": [
    {
     "name": "stdout",
     "output_type": "stream",
     "text": [
      "              precision    recall  f1-score   support\n",
      "\n",
      "           0       0.90      0.00      0.01     18386\n",
      "           1       0.09      1.00      0.17      1853\n",
      "\n",
      "    accuracy                           0.09     20239\n",
      "   macro avg       0.50      0.50      0.09     20239\n",
      "weighted avg       0.83      0.09      0.02     20239\n",
      "\n",
      "0.09392756559118534\n"
     ]
    }
   ],
   "source": [
    "#Logistic regression using SMOTEENN data\n",
    "clf4 = LogisticRegression(random_state=0) #SMOTEENN\n",
    "clf4.fit(x_train_smtnn, y_train_smtnn)\n",
    "\n",
    "y_pred_log4 = clf4.predict(X_test)\n",
    "acc_log4 = accuracy_score(y_test, y_pred_log4)\n",
    "classr_log4 =classification_report(y_test, y_pred_log4)\n",
    "\n",
    "\n",
    "print(classr_log4)\n",
    "\n",
    "print(acc_log4)\n",
    "#print(y_pred2)"
   ]
  },
  {
   "cell_type": "code",
   "execution_count": null,
   "metadata": {
    "colab": {
     "base_uri": "https://localhost:8080/"
    },
    "id": "mKUj-V0PH5yF",
    "outputId": "42b36688-fb55-43aa-c496-2da37cb83600"
   },
   "outputs": [
    {
     "name": "stdout",
     "output_type": "stream",
     "text": [
      "0.09090282037931836\n",
      "0.7088788971787143\n",
      "              precision    recall  f1-score   support\n",
      "\n",
      "           0       0.91      0.76      0.83     18386\n",
      "           1       0.09      0.24      0.13      1853\n",
      "\n",
      "    accuracy                           0.71     20239\n",
      "   macro avg       0.50      0.50      0.48     20239\n",
      "weighted avg       0.83      0.71      0.76     20239\n",
      "\n"
     ]
    }
   ],
   "source": [
    "#Decisiontree using SMOTEENN data\n",
    "DT4 = DecisionTreeClassifier()\n",
    "DT4.fit(x_train_smtnn, y_train_smtnn)\n",
    "\n",
    "y_pred_DT4 = DT4.predict(X_test)\n",
    "prec_DT4 = average_precision_score(y_test, y_pred_DT4)\n",
    "acc_DT4 = accuracy_score(y_test, y_pred_DT4)\n",
    "classr_DT4 =classification_report(y_test, y_pred_DT4)\n",
    "\n",
    "print(prec_DT4)\n",
    "print(acc_DT4)\n",
    "print(classr_DT4)\n"
   ]
  },
  {
   "cell_type": "code",
   "execution_count": null,
   "metadata": {
    "colab": {
     "base_uri": "https://localhost:8080/"
    },
    "id": "AKM6HusPIOGR",
    "outputId": "a0f4c385-12b9-4590-e5dc-a0627dd912d9"
   },
   "outputs": [
    {
     "name": "stdout",
     "output_type": "stream",
     "text": [
      "0.09234492698133938\n",
      "0.8850239636345669\n",
      "              precision    recall  f1-score   support\n",
      "\n",
      "           0       0.91      0.97      0.94     18386\n",
      "           1       0.11      0.04      0.06      1853\n",
      "\n",
      "    accuracy                           0.89     20239\n",
      "   macro avg       0.51      0.50      0.50     20239\n",
      "weighted avg       0.84      0.89      0.86     20239\n",
      "\n"
     ]
    }
   ],
   "source": [
    "#Randomforest using SMOTEENN data\n",
    "RFC4 = RandomForestClassifier()\n",
    "RFC4.fit(x_train_smtnn, y_train_smtnn)\n",
    "\n",
    "y_pred_RFC4 = RFC4.predict(X_test)\n",
    "prec_RFC4 = average_precision_score(y_test, y_pred_RFC4)\n",
    "acc_RFC4 = accuracy_score(y_test, y_pred_RFC4)\n",
    "classr_RFC4 =classification_report(y_test, y_pred_RFC4)\n",
    "\n",
    "print(prec_RFC4)\n",
    "print(acc_RFC4)\n",
    "print(classr_RFC4)\n"
   ]
  },
  {
   "cell_type": "code",
   "execution_count": null,
   "metadata": {
    "colab": {
     "base_uri": "https://localhost:8080/"
    },
    "id": "NJ98pb8girE5",
    "outputId": "89b3f3c3-c0ad-40c6-89d2-0aad8da63f71"
   },
   "outputs": [
    {
     "name": "stdout",
     "output_type": "stream",
     "text": [
      "              precision    recall  f1-score   support\n",
      "\n",
      "           0       0.91      1.00      0.95     18386\n",
      "           1       0.00      0.00      0.00      1853\n",
      "\n",
      "    accuracy                           0.91     20239\n",
      "   macro avg       0.45      0.50      0.48     20239\n",
      "weighted avg       0.83      0.91      0.86     20239\n",
      "\n",
      "0.9084440930876031\n"
     ]
    },
    {
     "name": "stderr",
     "output_type": "stream",
     "text": [
      "/usr/local/lib/python3.10/dist-packages/sklearn/metrics/_classification.py:1344: UndefinedMetricWarning: Precision and F-score are ill-defined and being set to 0.0 in labels with no predicted samples. Use `zero_division` parameter to control this behavior.\n",
      "  _warn_prf(average, modifier, msg_start, len(result))\n",
      "/usr/local/lib/python3.10/dist-packages/sklearn/metrics/_classification.py:1344: UndefinedMetricWarning: Precision and F-score are ill-defined and being set to 0.0 in labels with no predicted samples. Use `zero_division` parameter to control this behavior.\n",
      "  _warn_prf(average, modifier, msg_start, len(result))\n",
      "/usr/local/lib/python3.10/dist-packages/sklearn/metrics/_classification.py:1344: UndefinedMetricWarning: Precision and F-score are ill-defined and being set to 0.0 in labels with no predicted samples. Use `zero_division` parameter to control this behavior.\n",
      "  _warn_prf(average, modifier, msg_start, len(result))\n"
     ]
    }
   ],
   "source": [
    "#logistic using raw data without any sampling technique\n",
    "clf5 = LogisticRegression(random_state=0) # NO technique\n",
    "clf5.fit(X_train, y_train)\n",
    "\n",
    "y_pred_log5 = clf5.predict(X_test)\n",
    "acc_log5 = accuracy_score(y_test, y_pred_log5)\n",
    "classr_log5 =classification_report(y_test, y_pred_log5)\n",
    "\n",
    "\n",
    "print(classr_log5)\n",
    "print(acc_log5)\n",
    "#print(y_pred2)"
   ]
  },
  {
   "cell_type": "code",
   "execution_count": null,
   "metadata": {
    "colab": {
     "base_uri": "https://localhost:8080/"
    },
    "id": "5ljetfcDRyh4",
    "outputId": "026ed63d-85b2-4edf-84b8-ecc6c3173a5b"
   },
   "outputs": [
    {
     "name": "stdout",
     "output_type": "stream",
     "text": [
      "0.09155590691239686\n",
      "0.9083946835317951\n",
      "              precision    recall  f1-score   support\n",
      "\n",
      "           0       0.91      1.00      0.95     18386\n",
      "           1       0.00      0.00      0.00      1853\n",
      "\n",
      "    accuracy                           0.91     20239\n",
      "   macro avg       0.45      0.50      0.48     20239\n",
      "weighted avg       0.83      0.91      0.86     20239\n",
      "\n"
     ]
    }
   ],
   "source": [
    "#xgboost using raw data without sampling techniques\n",
    "xgbl= GradientBoostingClassifier(n_estimators=100, learning_rate=0.1,max_depth=3, random_state=0)\n",
    "xgbl.fit(X_train, y_train)\n",
    "\n",
    "y_pred_xgbl = xgbl.predict(X_test)\n",
    "prec_xgbl = average_precision_score(y_test, y_pred_xgbl)\n",
    "acc_xgbl = accuracy_score(y_test, y_pred_xgbl)\n",
    "classr_xgbl =classification_report(y_test, y_pred_xgbl)\n",
    "\n",
    "print(prec_xgbl)\n",
    "print(acc_xgbl)\n",
    "print(classr_xgbl)\n"
   ]
  },
  {
   "cell_type": "code",
   "execution_count": null,
   "metadata": {
    "id": "WFabV8MPSeLB"
   },
   "outputs": [],
   "source": [
    "#inbuilt sample balancing techniques with RFC\n",
    "from imblearn.ensemble import BalancedRandomForestClassifier\n",
    "\n",
    "blRFC = BalancedRandomForestClassifier()\n",
    "blRFC.fit(X_train,y_train)\n",
    "y_pred_blRFC = blRFC.predict(X_test)\n",
    "prec_blRFC = average_precision_score(y_test, y_pred_blRFC)\n",
    "acc_blRFC = accuracy_score(y_test, y_pred_blRFC)\n",
    "classr_blRFC =classification_report(y_test, y_pred_blRFC)\n",
    "\n",
    "print(prec_blRFC)\n",
    "print(acc_blRFC)\n",
    "print(classr_blRFC)\n"
   ]
  },
  {
   "cell_type": "markdown",
   "metadata": {
    "id": "VkqAOVkeRyQt"
   },
   "source": []
  },
  {
   "cell_type": "code",
   "execution_count": null,
   "metadata": {
    "colab": {
     "base_uri": "https://localhost:8080/"
    },
    "id": "wguonAPLVPQJ",
    "outputId": "ec4e446d-61e3-4445-89df-a00166a26732"
   },
   "outputs": [
    {
     "name": "stderr",
     "output_type": "stream",
     "text": [
      "/usr/local/lib/python3.10/dist-packages/sklearn/cluster/_kmeans.py:870: FutureWarning: The default value of `n_init` will change from 10 to 'auto' in 1.4. Set the value of `n_init` explicitly to suppress the warning\n",
      "  warnings.warn(\n"
     ]
    },
    {
     "name": "stdout",
     "output_type": "stream",
     "text": [
      "after Counter({0: 42836, 1: 42836})\n"
     ]
    }
   ],
   "source": [
    "#under sampling the data  using K-means\n",
    "from imblearn.under_sampling import ClusterCentroids\n",
    "from collections import Counter\n",
    "undersampler = ClusterCentroids()\n",
    "X_smote, y_smote = undersampler.fit_resample(X_train, y_train)\n",
    "counter = Counter(y_train_sm)\n",
    "print(\"after\", counter)"
   ]
  },
  {
   "cell_type": "code",
   "execution_count": null,
   "metadata": {
    "colab": {
     "base_uri": "https://localhost:8080/"
    },
    "id": "Z8buZKJMXa3G",
    "outputId": "92380ec9-ef9b-4c18-bf53-877157f9cfd7"
   },
   "outputs": [
    {
     "name": "stdout",
     "output_type": "stream",
     "text": [
      "              precision    recall  f1-score   support\n",
      "\n",
      "           0       0.91      0.28      0.43     18386\n",
      "           1       0.09      0.72      0.16      1853\n",
      "\n",
      "    accuracy                           0.32     20239\n",
      "   macro avg       0.50      0.50      0.30     20239\n",
      "weighted avg       0.83      0.32      0.41     20239\n",
      "\n",
      "0.3236820000988191\n"
     ]
    }
   ],
   "source": [
    "#logistic regression using K_means data\n",
    "clf6 = LogisticRegression(random_state=0) # knn\n",
    "clf6.fit(X_smote, y_smote)\n",
    "\n",
    "y_pred_log6 = clf6.predict(X_test)\n",
    "acc_log6 = accuracy_score(y_test, y_pred_log6)\n",
    "classr_log6 =classification_report(y_test, y_pred_log6)\n",
    "\n",
    "\n",
    "print(classr_log6)\n",
    "print(acc_log6)"
   ]
  },
  {
   "cell_type": "code",
   "execution_count": null,
   "metadata": {
    "colab": {
     "base_uri": "https://localhost:8080/"
    },
    "id": "5WpYIStIiTV2",
    "outputId": "f3dfd4c1-4515-481e-dc57-a9b7c60e99cf"
   },
   "outputs": [
    {
     "name": "stdout",
     "output_type": "stream",
     "text": [
      "0.09137494895941631\n",
      "0.1684865853055981\n",
      "              precision    recall  f1-score   support\n",
      "\n",
      "           0       0.91      0.09      0.17     18386\n",
      "           1       0.09      0.90      0.17      1853\n",
      "\n",
      "    accuracy                           0.17     20239\n",
      "   macro avg       0.50      0.50      0.17     20239\n",
      "weighted avg       0.83      0.17      0.17     20239\n",
      "\n"
     ]
    }
   ],
   "source": [
    "#decision tree using K-means  data\n",
    "DT5 = DecisionTreeClassifier()\n",
    "DT5.fit(X_smote, y_smote)\n",
    "\n",
    "y_pred_DT5 = DT5.predict(X_test)\n",
    "prec_DT5 = average_precision_score(y_test, y_pred_DT5)\n",
    "acc_DT5 = accuracy_score(y_test, y_pred_DT5)\n",
    "classr_DT5 =classification_report(y_test, y_pred_DT5)\n",
    "\n",
    "print(prec_DT5)\n",
    "print(acc_DT5)\n",
    "print(classr_DT5)"
   ]
  },
  {
   "cell_type": "code",
   "execution_count": null,
   "metadata": {
    "colab": {
     "base_uri": "https://localhost:8080/"
    },
    "id": "ZHVXKKfritbR",
    "outputId": "d91f0457-f265-4e4c-f300-d5ad942c3a59"
   },
   "outputs": [
    {
     "name": "stdout",
     "output_type": "stream",
     "text": [
      "0.09137856495811454\n",
      "0.10504471564800633\n",
      "              precision    recall  f1-score   support\n",
      "\n",
      "           0       0.90      0.02      0.03     18386\n",
      "           1       0.09      0.98      0.17      1853\n",
      "\n",
      "    accuracy                           0.11     20239\n",
      "   macro avg       0.49      0.50      0.10     20239\n",
      "weighted avg       0.82      0.11      0.05     20239\n",
      "\n"
     ]
    }
   ],
   "source": [
    "#Randomforest using K-means  data\n",
    "RFC5 = RandomForestClassifier()\n",
    "RFC5.fit(X_smote, y_smote)\n",
    "\n",
    "y_pred_RFC5 = RFC5.predict(X_test)\n",
    "prec_RFC5 = average_precision_score(y_test, y_pred_RFC5)\n",
    "acc_RFC5 = accuracy_score(y_test, y_pred_RFC5)\n",
    "classr_RFC5 =classification_report(y_test, y_pred_RFC5)\n",
    "\n",
    "print(prec_RFC5)\n",
    "print(acc_RFC5)\n",
    "print(classr_RFC5)"
   ]
  },
  {
   "cell_type": "code",
   "execution_count": 12,
   "metadata": {},
   "outputs": [
    {
     "name": "stdout",
     "output_type": "stream",
     "text": [
      "original dataset shape: Counter({0: 42836, 1: 4388})\n",
      "Resample dataset shape Counter({0: 4388, 1: 4388})\n"
     ]
    }
   ],
   "source": [
    "# import library fro random under sampler\n",
    "from imblearn.under_sampling import RandomUnderSampler\n",
    "from collections import Counter\n",
    "rus = RandomUnderSampler(random_state=42, replacement=True)# fit predictor and target variable\n",
    "x_imbln_rus, y_imbln_rus = rus.fit_resample(X_train, y_train)\n",
    "\n",
    "print('original dataset shape:', Counter(y_train))\n",
    "print('Resample dataset shape', Counter(y_imbln_rus))"
   ]
  },
  {
   "cell_type": "code",
   "execution_count": 30,
   "metadata": {},
   "outputs": [
    {
     "name": "stderr",
     "output_type": "stream",
     "text": [
      "/home/rajesh/anaconda3/lib/python3.11/site-packages/sklearn/linear_model/_logistic.py:460: ConvergenceWarning: lbfgs failed to converge (status=1):\n",
      "STOP: TOTAL NO. of ITERATIONS REACHED LIMIT.\n",
      "\n",
      "Increase the number of iterations (max_iter) or scale the data as shown in:\n",
      "    https://scikit-learn.org/stable/modules/preprocessing.html\n",
      "Please also refer to the documentation for alternative solver options:\n",
      "    https://scikit-learn.org/stable/modules/linear_model.html#logistic-regression\n",
      "  n_iter_i = _check_optimize_result(\n",
      "/home/rajesh/anaconda3/lib/python3.11/site-packages/sklearn/base.py:464: UserWarning: X does not have valid feature names, but LogisticRegression was fitted with feature names\n",
      "  warnings.warn(\n"
     ]
    },
    {
     "name": "stdout",
     "output_type": "stream",
     "text": [
      "0.5354513562923069\n",
      "              precision    recall  f1-score   support\n",
      "\n",
      "           0       0.91      0.54      0.68     18386\n",
      "           1       0.09      0.46      0.15      1853\n",
      "\n",
      "    accuracy                           0.54     20239\n",
      "   macro avg       0.50      0.50      0.42     20239\n",
      "weighted avg       0.83      0.54      0.63     20239\n",
      "\n",
      "[0.67974658 0.1544964 ]\n"
     ]
    }
   ],
   "source": [
    "# Logistic Regression ON DATA BY RANDOM UNDER SAMPLING\n",
    "\n",
    "from sklearn.linear_model import LogisticRegression\n",
    "from sklearn.metrics import accuracy_score\n",
    "from sklearn.metrics import average_precision_score\n",
    "\n",
    "clf = LogisticRegression()\n",
    "clf.fit(x_imbln_rus, y_imbln_rus)\n",
    "\n",
    "y_pred = clf.predict(X_test)\n",
    "acc = accuracy_score(y_test, y_pred)\n",
    "classr =classification_report(y_test, y_pred)\n",
    "f_score = f1_score(y_test, y_pred, average = None)\n",
    "\n",
    "print(acc)\n",
    "print(classr)\n",
    "print(f_score)\n"
   ]
  },
  {
   "cell_type": "code",
   "execution_count": 29,
   "metadata": {},
   "outputs": [
    {
     "name": "stdout",
     "output_type": "stream",
     "text": [
      "0.09166400451564019\n",
      "0.4775927664410297\n",
      "              precision    recall  f1-score   support\n",
      "\n",
      "           0       0.91      0.47      0.62     18386\n",
      "           1       0.09      0.53      0.16      1853\n",
      "\n",
      "    accuracy                           0.48     20239\n",
      "   macro avg       0.50      0.50      0.39     20239\n",
      "weighted avg       0.83      0.48      0.58     20239\n",
      "\n"
     ]
    },
    {
     "name": "stderr",
     "output_type": "stream",
     "text": [
      "/home/rajesh/anaconda3/lib/python3.11/site-packages/sklearn/base.py:464: UserWarning: X does not have valid feature names, but DecisionTreeClassifier was fitted with feature names\n",
      "  warnings.warn(\n"
     ]
    }
   ],
   "source": [
    "#decison tree usng Random sampler data\n",
    "from sklearn.tree import DecisionTreeClassifier\n",
    "DT6 = DecisionTreeClassifier()\n",
    "DT6.fit(x_imbln_rus, y_imbln_rus)\n",
    "\n",
    "y_pred_DT6 = DT6.predict(X_test)\n",
    "prec_DT6 = average_precision_score(y_test, y_pred_DT6)\n",
    "acc_DT6 = accuracy_score(y_test, y_pred_DT6)\n",
    "classr_DT6 =classification_report(y_test, y_pred_DT6)\n",
    "\n",
    "print(prec_DT6)\n",
    "print(acc_DT6)\n",
    "print(classr_DT6)"
   ]
  },
  {
   "cell_type": "code",
   "execution_count": 19,
   "metadata": {},
   "outputs": [
    {
     "name": "stdout",
     "output_type": "stream",
     "text": [
      "0.09517011690507998\n",
      "0.5118335886160383\n",
      "              precision    recall  f1-score   support\n",
      "\n",
      "           0       0.92      0.51      0.65     18386\n",
      "           1       0.10      0.53      0.17      1853\n",
      "\n",
      "    accuracy                           0.51     20239\n",
      "   macro avg       0.51      0.52      0.41     20239\n",
      "weighted avg       0.84      0.51      0.61     20239\n",
      "\n"
     ]
    }
   ],
   "source": [
    "#randomforest using radnom sampler data\n",
    "from sklearn.ensemble import RandomForestClassifier\n",
    "RFC6 = RandomForestClassifier()\n",
    "RFC6.fit(x_imbln_rus, y_imbln_rus)\n",
    "\n",
    "y_pred_RFC6 = RFC6.predict(X_test)\n",
    "prec_RFC6 = average_precision_score(y_test, y_pred_RFC6)\n",
    "acc_RFC6 = accuracy_score(y_test, y_pred_RFC6)\n",
    "classr_RFC6 =classification_report(y_test, y_pred_RFC6)\n",
    "\n",
    "print(prec_RFC6)\n",
    "print(acc_RFC6)\n",
    "print(classr_RFC6)"
   ]
  },
  {
   "cell_type": "code",
   "execution_count": 21,
   "metadata": {},
   "outputs": [
    {
     "name": "stdout",
     "output_type": "stream",
     "text": [
      "before Counter({0: 42836, 1: 4388})\n",
      "after Counter({0: 40950, 1: 4388})\n"
     ]
    }
   ],
   "source": [
    "# IMPLEMENTING UNDERSAMPLING USING TOMEK LINKS\n",
    "from imblearn.under_sampling import TomekLinks\n",
    "from collections import Counter\n",
    "\n",
    "counter = Counter(y_train)\n",
    "print(\"before\", counter)\n",
    "\n",
    "tl = TomekLinks(sampling_strategy = 'majority')\n",
    "x_train_tomek_links, y_train_tomek_links = tl.fit_resample(X_train,y_train)\n",
    "counter = Counter(y_train_tomek_links)\n",
    "print(\"after\", counter)"
   ]
  },
  {
   "cell_type": "code",
   "execution_count": 23,
   "metadata": {},
   "outputs": [
    {
     "name": "stdout",
     "output_type": "stream",
     "text": [
      "0.9084440930876031\n",
      "              precision    recall  f1-score   support\n",
      "\n",
      "           0       0.91      1.00      0.95     18386\n",
      "           1       0.00      0.00      0.00      1853\n",
      "\n",
      "    accuracy                           0.91     20239\n",
      "   macro avg       0.45      0.50      0.48     20239\n",
      "weighted avg       0.83      0.91      0.86     20239\n",
      "\n",
      "[0.95202589 0.        ]\n"
     ]
    },
    {
     "name": "stderr",
     "output_type": "stream",
     "text": [
      "/home/rajesh/anaconda3/lib/python3.11/site-packages/sklearn/linear_model/_logistic.py:460: ConvergenceWarning: lbfgs failed to converge (status=1):\n",
      "STOP: TOTAL NO. of ITERATIONS REACHED LIMIT.\n",
      "\n",
      "Increase the number of iterations (max_iter) or scale the data as shown in:\n",
      "    https://scikit-learn.org/stable/modules/preprocessing.html\n",
      "Please also refer to the documentation for alternative solver options:\n",
      "    https://scikit-learn.org/stable/modules/linear_model.html#logistic-regression\n",
      "  n_iter_i = _check_optimize_result(\n",
      "/home/rajesh/anaconda3/lib/python3.11/site-packages/sklearn/metrics/_classification.py:1469: UndefinedMetricWarning: Precision and F-score are ill-defined and being set to 0.0 in labels with no predicted samples. Use `zero_division` parameter to control this behavior.\n",
      "  _warn_prf(average, modifier, msg_start, len(result))\n",
      "/home/rajesh/anaconda3/lib/python3.11/site-packages/sklearn/metrics/_classification.py:1469: UndefinedMetricWarning: Precision and F-score are ill-defined and being set to 0.0 in labels with no predicted samples. Use `zero_division` parameter to control this behavior.\n",
      "  _warn_prf(average, modifier, msg_start, len(result))\n",
      "/home/rajesh/anaconda3/lib/python3.11/site-packages/sklearn/metrics/_classification.py:1469: UndefinedMetricWarning: Precision and F-score are ill-defined and being set to 0.0 in labels with no predicted samples. Use `zero_division` parameter to control this behavior.\n",
      "  _warn_prf(average, modifier, msg_start, len(result))\n"
     ]
    }
   ],
   "source": [
    "# Logistic Regression ON NEW DATA BY TOMEK LINKS\n",
    "\n",
    "from sklearn.linear_model import LogisticRegression\n",
    "from sklearn.metrics import accuracy_score\n",
    "from sklearn.metrics import average_precision_score\n",
    "\n",
    "clf = LogisticRegression()\n",
    "clf.fit(x_train_tomek_links, y_train_tomek_links)\n",
    "\n",
    "y_pred = clf.predict(X_test)\n",
    "acc = accuracy_score(y_test, y_pred)\n",
    "classr =classification_report(y_test, y_pred)\n",
    "f_score = f1_score(y_test, y_pred, average = None)\n",
    "\n",
    "print(acc)\n",
    "print(classr)\n",
    "print(f_score)\n"
   ]
  },
  {
   "cell_type": "code",
   "execution_count": 31,
   "metadata": {},
   "outputs": [
    {
     "name": "stdout",
     "output_type": "stream",
     "text": [
      "0.09191406952052486\n",
      "0.3943376649043925\n",
      "              precision    recall  f1-score   support\n",
      "\n",
      "           0       0.91      0.37      0.53     18386\n",
      "           1       0.09      0.63      0.16      1853\n",
      "\n",
      "    accuracy                           0.39     20239\n",
      "   macro avg       0.50      0.50      0.34     20239\n",
      "weighted avg       0.83      0.39      0.49     20239\n",
      "\n"
     ]
    },
    {
     "name": "stderr",
     "output_type": "stream",
     "text": [
      "/home/rajesh/anaconda3/lib/python3.11/site-packages/sklearn/base.py:464: UserWarning: X does not have valid feature names, but DecisionTreeClassifier was fitted with feature names\n",
      "  warnings.warn(\n"
     ]
    }
   ],
   "source": [
    "#decion tree using tomek data\n",
    "DT7 = DecisionTreeClassifier()\n",
    "DT7.fit(x_train_tomek_links, y_train_tomek_links)\n",
    "\n",
    "y_pred_DT7 = DT7.predict(X_test)\n",
    "prec_DT7 = average_precision_score(y_test, y_pred_DT7)\n",
    "acc_DT7 = accuracy_score(y_test, y_pred_DT7)\n",
    "classr_DT7 =classification_report(y_test, y_pred_DT7)\n",
    "\n",
    "print(prec_DT7)\n",
    "print(acc_DT7)\n",
    "print(classr_DT7)"
   ]
  },
  {
   "cell_type": "code",
   "execution_count": 32,
   "metadata": {},
   "outputs": [
    {
     "name": "stderr",
     "output_type": "stream",
     "text": [
      "/home/rajesh/anaconda3/lib/python3.11/site-packages/sklearn/base.py:464: UserWarning: X does not have valid feature names, but RandomForestClassifier was fitted with feature names\n",
      "  warnings.warn(\n"
     ]
    },
    {
     "name": "stdout",
     "output_type": "stream",
     "text": [
      "0.0917359003553999\n",
      "0.10321656208310687\n",
      "              precision    recall  f1-score   support\n",
      "\n",
      "           0       0.92      0.01      0.03     18386\n",
      "           1       0.09      0.99      0.17      1853\n",
      "\n",
      "    accuracy                           0.10     20239\n",
      "   macro avg       0.51      0.50      0.10     20239\n",
      "weighted avg       0.85      0.10      0.04     20239\n",
      "\n"
     ]
    }
   ],
   "source": [
    "#random forest using tomek data\n",
    "RFC7 = RandomForestClassifier()\n",
    "RFC7.fit(x_train_tomek_links, y_train_tomek_links)\n",
    "\n",
    "y_pred_RFC7 = RFC7.predict(X_test)\n",
    "prec_RFC7 = average_precision_score(y_test, y_pred_RFC7)\n",
    "acc_RFC7 = accuracy_score(y_test, y_pred_RFC7)\n",
    "classr_RFC7 =classification_report(y_test, y_pred_RFC7)\n",
    "\n",
    "print(prec_RFC7)\n",
    "print(acc_RFC7)\n",
    "print(classr_RFC7)"
   ]
  },
  {
   "cell_type": "code",
   "execution_count": null,
   "metadata": {
    "colab": {
     "base_uri": "https://localhost:8080/"
    },
    "id": "n8qVia5JjYQz",
    "outputId": "0a5af824-cf79-480d-a91d-14f166950421"
   },
   "outputs": [
    {
     "name": "stdout",
     "output_type": "stream",
     "text": [
      "0.09153769609427756\n",
      "0.11957112505558574\n",
      "              precision    recall  f1-score   support\n",
      "\n",
      "           0       0.91      0.03      0.07     18386\n",
      "           1       0.09      0.97      0.17      1853\n",
      "\n",
      "    accuracy                           0.12     20239\n",
      "   macro avg       0.50      0.50      0.12     20239\n",
      "weighted avg       0.83      0.12      0.08     20239\n",
      "\n"
     ]
    }
   ],
   "source": [
    "#XGboost using K-means data\n",
    "xgb4= GradientBoostingClassifier(n_estimators=100, learning_rate=1.0,max_depth=5, random_state=0)\n",
    "xgb4.fit(X_smote, y_smote)\n",
    "\n",
    "y_pred_xgb4 = xgb4.predict(X_test)\n",
    "prec_xgb4 = average_precision_score(y_test, y_pred_xgb4)\n",
    "acc_xgb4 = accuracy_score(y_test, y_pred_xgb4)\n",
    "classr_xgb4 =classification_report(y_test, y_pred_xgb4)\n",
    "\n",
    "print(prec_xgb4)\n",
    "print(acc_xgb4)\n",
    "print(classr_xgb4)"
   ]
  },
  {
   "cell_type": "code",
   "execution_count": null,
   "metadata": {},
   "outputs": [],
   "source": [
    "#RFECV on the raw data\n",
    "from sklearn.feature_selection import RFECV\n",
    "from sklearn.model_selection import cross_val_score\n",
    "from sklearn.model_selection import StratifiedKFold"
   ]
  },
  {
   "cell_type": "code",
   "execution_count": null,
   "metadata": {},
   "outputs": [],
   "source": [
    "#feauture selection using RFEC with Randomforest as estimator\n",
    "estimator = RandomForestClassifier()\n",
    "selector = RFECV(estimator=estimator,scoring='accuracy', cv=StratifiedKFold(n_splits=5))\n",
    "selector.fit_transform(X_train, y_train)\n",
    "s_fetaures = X_train.columns[selector.support_]\n",
    "print(s_fetaures)"
   ]
  },
  {
   "cell_type": "markdown",
   "metadata": {},
   "source": [
    "OUTPUT\n",
    "Index(['Loan Amount', 'Funded Amount', 'Funded Amount Investor',\n",
    "       'Interest Rate', 'Home Ownership', 'Debit to Income',\n",
    "       'Revolving Balance', 'Revolving Utilities', 'Total Received Interest',\n",
    "       'Total Received Late Fee', 'Recoveries', 'Collection Recovery Fee',\n",
    "       'Last week Pay', 'Total Current Balance',\n",
    "       'Total Revolving Credit Limit'],\n",
    "      dtype='object')"
   ]
  },
  {
   "cell_type": "code",
   "execution_count": null,
   "metadata": {},
   "outputs": [],
   "source": [
    "# Assuming 'selector' is your RFECV object\n",
    "selected_features = selector.get_support()\n",
    "\n",
    "# Filter the original dataset based on selected features\n",
    "data_train_selected = X_train.iloc[:, selected_features]\n",
    "data_test_selected = X_test.iloc[:, selected_features]\n",
    "data_test_selected.head\n",
    "data_train_selected.head"
   ]
  },
  {
   "cell_type": "code",
   "execution_count": null,
   "metadata": {},
   "outputs": [],
   "source": [
    "#oversampling technique ON RFECV selected data\n",
    "from imblearn.over_sampling import SMOTE\n",
    "from collections import Counter\n",
    "counter = Counter(y_train)\n",
    "print(\"before\", counter)\n",
    "smt = SMOTE()\n",
    "x_train_smR, y_train_smR = smt.fit_resample(data_train_selected,y_train)\n",
    "counter = Counter(y_train_sm)\n",
    "print(\"after\", counter)"
   ]
  },
  {
   "cell_type": "markdown",
   "metadata": {},
   "source": [
    "OUTPUT\n",
    "before Counter({0: 42836, 1: 4388})\n",
    "after Counter({0: 42836, 1: 42836})"
   ]
  },
  {
   "cell_type": "code",
   "execution_count": null,
   "metadata": {},
   "outputs": [],
   "source": [
    "#Logistic Regression usin SMote+RFECV technique\n",
    "from sklearn.linear_model import LogisticRegression#Smote\n",
    "from sklearn.metrics import accuracy_score\n",
    "from sklearn.metrics import average_precision_score\n",
    "clfR = LogisticRegression(random_state=0)\n",
    "clfR.fit(x_train_smR, y_train_smR)\n",
    "y_pred_logR = clfR.predict(data_test_selected)\n",
    "prec_logR = average_precision_score(y_test, y_pred_logR)\n",
    "acc_logR = accuracy_score(y_test, y_pred_logR)\n",
    "classr_logR =classification_report(y_test, y_pred_logRq)\n",
    "\n",
    "print(y_pred_logR)\n",
    "print(prec_logR)\n",
    "print(classr_logR)"
   ]
  },
  {
   "cell_type": "markdown",
   "metadata": {},
   "source": [
    "OUTPUT\n",
    "[1 0 0 ... 0 1 1]\n",
    "0.09225134758511697\n",
    "              precision    recall  f1-score   support\n",
    "\n",
    "           0       0.91      0.58      0.71     18386\n",
    "           1       0.09      0.43      0.15      1853\n",
    "\n",
    "    accuracy                           0.56     20239\n",
    "   macro avg       0.50      0.50      0.43     20239\n",
    "weighted avg       0.83      0.56      0.66     20239\n",
    "\n"
   ]
  },
  {
   "cell_type": "code",
   "execution_count": null,
   "metadata": {},
   "outputs": [],
   "source": [
    "#decion tree using SMote+RFECV data\n",
    "DTR = DecisionTreeClassifier()\n",
    "DTR.fit(x_train_smR, y_train_smR)\n",
    "\n",
    "y_pred_DTR = DTR.predict(data_test_selected)\n",
    "prec_DTR= average_precision_score(y_test, y_pred_DTR)\n",
    "acc_DTR = accuracy_score(y_test, y_pred_DTR)\n",
    "classr_DTR =classification_report(y_test, y_pred_DTR)\n",
    "\n",
    "print(prec_DTR)\n",
    "print(acc_DTR)\n",
    "print(classr_DTR)"
   ]
  },
  {
   "cell_type": "markdown",
   "metadata": {},
   "source": [
    "OUPUT\n",
    "0.09228421888527652\n",
    "0.681654231928455\n",
    "              precision    recall  f1-score   support\n",
    "\n",
    "           0       0.91      0.72      0.80     18386\n",
    "           1       0.09      0.29      0.14      1853\n",
    "\n",
    "    accuracy                           0.68     20239\n",
    "   macro avg       0.50      0.50      0.47     20239\n",
    "weighted avg       0.83      0.68      0.74     20239\n",
    "\n"
   ]
  },
  {
   "cell_type": "code",
   "execution_count": null,
   "metadata": {},
   "outputs": [],
   "source": [
    "#Random forest using SMOTE +RFECV data\n",
    "\n",
    "RFCR = RandomForestClassifier()\n",
    "RFCR.fit(x_train_smR, y_train_smR)\n",
    "\n",
    "\n",
    "\n",
    "y_pred_RFCR = RFCR.predict(data_test_selected)\n",
    "prec_RFCR = average_precision_score(y_test, y_pred_RFCR)\n",
    "acc_RFCR = accuracy_score(y_test, y_pred_RFCR)\n",
    "classr_RFCR =classification_report(y_test, y_pred_RFCR)\n",
    "print(prec_RFCR)\n",
    "print(acc_RFCR)\n",
    "print(classr_RFCR)"
   ]
  },
  {
   "cell_type": "markdown",
   "metadata": {},
   "source": [
    "OUTPUT\n",
    "0.0934171182554645\n",
    "0.7998912989772222\n",
    "              precision    recall  f1-score   support\n",
    "\n",
    "           0       0.91      0.86      0.89     18386\n",
    "           1       0.10      0.15      0.12      1853\n",
    "\n",
    "    accuracy                           0.80     20239\n",
    "   macro avg       0.51      0.51      0.51     20239\n",
    "weighted avg       0.84      0.80      0.82     20239\n",
    "\n"
   ]
  },
  {
   "cell_type": "code",
   "execution_count": null,
   "metadata": {},
   "outputs": [],
   "source": []
  }
 ],
 "metadata": {
  "colab": {
   "provenance": []
  },
  "kernelspec": {
   "display_name": "Python 3",
   "name": "python3"
  },
  "language_info": {
   "codemirror_mode": {
    "name": "ipython",
    "version": 3
   },
   "file_extension": ".py",
   "mimetype": "text/x-python",
   "name": "python",
   "nbconvert_exporter": "python",
   "pygments_lexer": "ipython3",
   "version": "3.11.4"
  }
 },
 "nbformat": 4,
 "nbformat_minor": 0
}
